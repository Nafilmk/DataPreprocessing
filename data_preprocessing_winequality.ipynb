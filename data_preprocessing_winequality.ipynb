{
  "nbformat": 4,
  "nbformat_minor": 0,
  "metadata": {
    "colab": {
      "provenance": []
    },
    "kernelspec": {
      "name": "python3",
      "display_name": "Python 3"
    },
    "language_info": {
      "name": "python"
    }
  },
  "cells": [
    {
      "cell_type": "code",
      "source": [
        "import numpy as np\n",
        "import pandas as pd\n",
        "import matplotlib.pyplot as plt\n",
        "import seaborn as sns"
      ],
      "metadata": {
        "id": "oOwpx2-3bhrA"
      },
      "execution_count": null,
      "outputs": []
    },
    {
      "cell_type": "code",
      "execution_count": null,
      "metadata": {
        "id": "LZApKAkIZVyQ"
      },
      "outputs": [],
      "source": [
        "data = pd.read_csv(\"/content/drive/MyDrive/dataset/winequality-red_(2).csv\")"
      ]
    },
    {
      "cell_type": "code",
      "source": [
        "data.head()"
      ],
      "metadata": {
        "colab": {
          "base_uri": "https://localhost:8080/",
          "height": 305
        },
        "id": "qHV2qDmWb6Ry",
        "outputId": "d93efa1a-0af9-4906-b8d0-71a5e9edf248"
      },
      "execution_count": null,
      "outputs": [
        {
          "output_type": "execute_result",
          "data": {
            "text/plain": [
              "   fixed acidity  volatile acidity  citric acid  residual sugar  chlorides  \\\n",
              "0            7.4              0.70         0.00             1.9      0.076   \n",
              "1            7.8              0.88         0.00             2.6      0.098   \n",
              "2            7.8              0.76         0.04             2.3      0.092   \n",
              "3           11.2              0.28         0.56             1.9      0.075   \n",
              "4            7.4              0.70         0.00             1.9      0.076   \n",
              "\n",
              "   free sulfur dioxide  total sulfur dioxide  density    pH  sulphates  \\\n",
              "0                 11.0                  34.0   0.9978  3.51       0.56   \n",
              "1                 25.0                  67.0   0.9968  3.20       0.68   \n",
              "2                 15.0                  54.0   0.9970  3.26       0.65   \n",
              "3                 17.0                  60.0   0.9980  3.16       0.58   \n",
              "4                 11.0                  34.0   0.9978  3.51       0.56   \n",
              "\n",
              "   alcohol  quality  \n",
              "0      9.4        5  \n",
              "1      9.8        5  \n",
              "2      9.8        5  \n",
              "3      9.8        6  \n",
              "4      9.4        5  "
            ],
            "text/html": [
              "\n",
              "  <div id=\"df-0afacdfc-a08e-4edc-92ac-a772de30e9d2\">\n",
              "    <div class=\"colab-df-container\">\n",
              "      <div>\n",
              "<style scoped>\n",
              "    .dataframe tbody tr th:only-of-type {\n",
              "        vertical-align: middle;\n",
              "    }\n",
              "\n",
              "    .dataframe tbody tr th {\n",
              "        vertical-align: top;\n",
              "    }\n",
              "\n",
              "    .dataframe thead th {\n",
              "        text-align: right;\n",
              "    }\n",
              "</style>\n",
              "<table border=\"1\" class=\"dataframe\">\n",
              "  <thead>\n",
              "    <tr style=\"text-align: right;\">\n",
              "      <th></th>\n",
              "      <th>fixed acidity</th>\n",
              "      <th>volatile acidity</th>\n",
              "      <th>citric acid</th>\n",
              "      <th>residual sugar</th>\n",
              "      <th>chlorides</th>\n",
              "      <th>free sulfur dioxide</th>\n",
              "      <th>total sulfur dioxide</th>\n",
              "      <th>density</th>\n",
              "      <th>pH</th>\n",
              "      <th>sulphates</th>\n",
              "      <th>alcohol</th>\n",
              "      <th>quality</th>\n",
              "    </tr>\n",
              "  </thead>\n",
              "  <tbody>\n",
              "    <tr>\n",
              "      <th>0</th>\n",
              "      <td>7.4</td>\n",
              "      <td>0.70</td>\n",
              "      <td>0.00</td>\n",
              "      <td>1.9</td>\n",
              "      <td>0.076</td>\n",
              "      <td>11.0</td>\n",
              "      <td>34.0</td>\n",
              "      <td>0.9978</td>\n",
              "      <td>3.51</td>\n",
              "      <td>0.56</td>\n",
              "      <td>9.4</td>\n",
              "      <td>5</td>\n",
              "    </tr>\n",
              "    <tr>\n",
              "      <th>1</th>\n",
              "      <td>7.8</td>\n",
              "      <td>0.88</td>\n",
              "      <td>0.00</td>\n",
              "      <td>2.6</td>\n",
              "      <td>0.098</td>\n",
              "      <td>25.0</td>\n",
              "      <td>67.0</td>\n",
              "      <td>0.9968</td>\n",
              "      <td>3.20</td>\n",
              "      <td>0.68</td>\n",
              "      <td>9.8</td>\n",
              "      <td>5</td>\n",
              "    </tr>\n",
              "    <tr>\n",
              "      <th>2</th>\n",
              "      <td>7.8</td>\n",
              "      <td>0.76</td>\n",
              "      <td>0.04</td>\n",
              "      <td>2.3</td>\n",
              "      <td>0.092</td>\n",
              "      <td>15.0</td>\n",
              "      <td>54.0</td>\n",
              "      <td>0.9970</td>\n",
              "      <td>3.26</td>\n",
              "      <td>0.65</td>\n",
              "      <td>9.8</td>\n",
              "      <td>5</td>\n",
              "    </tr>\n",
              "    <tr>\n",
              "      <th>3</th>\n",
              "      <td>11.2</td>\n",
              "      <td>0.28</td>\n",
              "      <td>0.56</td>\n",
              "      <td>1.9</td>\n",
              "      <td>0.075</td>\n",
              "      <td>17.0</td>\n",
              "      <td>60.0</td>\n",
              "      <td>0.9980</td>\n",
              "      <td>3.16</td>\n",
              "      <td>0.58</td>\n",
              "      <td>9.8</td>\n",
              "      <td>6</td>\n",
              "    </tr>\n",
              "    <tr>\n",
              "      <th>4</th>\n",
              "      <td>7.4</td>\n",
              "      <td>0.70</td>\n",
              "      <td>0.00</td>\n",
              "      <td>1.9</td>\n",
              "      <td>0.076</td>\n",
              "      <td>11.0</td>\n",
              "      <td>34.0</td>\n",
              "      <td>0.9978</td>\n",
              "      <td>3.51</td>\n",
              "      <td>0.56</td>\n",
              "      <td>9.4</td>\n",
              "      <td>5</td>\n",
              "    </tr>\n",
              "  </tbody>\n",
              "</table>\n",
              "</div>\n",
              "      <button class=\"colab-df-convert\" onclick=\"convertToInteractive('df-0afacdfc-a08e-4edc-92ac-a772de30e9d2')\"\n",
              "              title=\"Convert this dataframe to an interactive table.\"\n",
              "              style=\"display:none;\">\n",
              "        \n",
              "  <svg xmlns=\"http://www.w3.org/2000/svg\" height=\"24px\"viewBox=\"0 0 24 24\"\n",
              "       width=\"24px\">\n",
              "    <path d=\"M0 0h24v24H0V0z\" fill=\"none\"/>\n",
              "    <path d=\"M18.56 5.44l.94 2.06.94-2.06 2.06-.94-2.06-.94-.94-2.06-.94 2.06-2.06.94zm-11 1L8.5 8.5l.94-2.06 2.06-.94-2.06-.94L8.5 2.5l-.94 2.06-2.06.94zm10 10l.94 2.06.94-2.06 2.06-.94-2.06-.94-.94-2.06-.94 2.06-2.06.94z\"/><path d=\"M17.41 7.96l-1.37-1.37c-.4-.4-.92-.59-1.43-.59-.52 0-1.04.2-1.43.59L10.3 9.45l-7.72 7.72c-.78.78-.78 2.05 0 2.83L4 21.41c.39.39.9.59 1.41.59.51 0 1.02-.2 1.41-.59l7.78-7.78 2.81-2.81c.8-.78.8-2.07 0-2.86zM5.41 20L4 18.59l7.72-7.72 1.47 1.35L5.41 20z\"/>\n",
              "  </svg>\n",
              "      </button>\n",
              "      \n",
              "  <style>\n",
              "    .colab-df-container {\n",
              "      display:flex;\n",
              "      flex-wrap:wrap;\n",
              "      gap: 12px;\n",
              "    }\n",
              "\n",
              "    .colab-df-convert {\n",
              "      background-color: #E8F0FE;\n",
              "      border: none;\n",
              "      border-radius: 50%;\n",
              "      cursor: pointer;\n",
              "      display: none;\n",
              "      fill: #1967D2;\n",
              "      height: 32px;\n",
              "      padding: 0 0 0 0;\n",
              "      width: 32px;\n",
              "    }\n",
              "\n",
              "    .colab-df-convert:hover {\n",
              "      background-color: #E2EBFA;\n",
              "      box-shadow: 0px 1px 2px rgba(60, 64, 67, 0.3), 0px 1px 3px 1px rgba(60, 64, 67, 0.15);\n",
              "      fill: #174EA6;\n",
              "    }\n",
              "\n",
              "    [theme=dark] .colab-df-convert {\n",
              "      background-color: #3B4455;\n",
              "      fill: #D2E3FC;\n",
              "    }\n",
              "\n",
              "    [theme=dark] .colab-df-convert:hover {\n",
              "      background-color: #434B5C;\n",
              "      box-shadow: 0px 1px 3px 1px rgba(0, 0, 0, 0.15);\n",
              "      filter: drop-shadow(0px 1px 2px rgba(0, 0, 0, 0.3));\n",
              "      fill: #FFFFFF;\n",
              "    }\n",
              "  </style>\n",
              "\n",
              "      <script>\n",
              "        const buttonEl =\n",
              "          document.querySelector('#df-0afacdfc-a08e-4edc-92ac-a772de30e9d2 button.colab-df-convert');\n",
              "        buttonEl.style.display =\n",
              "          google.colab.kernel.accessAllowed ? 'block' : 'none';\n",
              "\n",
              "        async function convertToInteractive(key) {\n",
              "          const element = document.querySelector('#df-0afacdfc-a08e-4edc-92ac-a772de30e9d2');\n",
              "          const dataTable =\n",
              "            await google.colab.kernel.invokeFunction('convertToInteractive',\n",
              "                                                     [key], {});\n",
              "          if (!dataTable) return;\n",
              "\n",
              "          const docLinkHtml = 'Like what you see? Visit the ' +\n",
              "            '<a target=\"_blank\" href=https://colab.research.google.com/notebooks/data_table.ipynb>data table notebook</a>'\n",
              "            + ' to learn more about interactive tables.';\n",
              "          element.innerHTML = '';\n",
              "          dataTable['output_type'] = 'display_data';\n",
              "          await google.colab.output.renderOutput(dataTable, element);\n",
              "          const docLink = document.createElement('div');\n",
              "          docLink.innerHTML = docLinkHtml;\n",
              "          element.appendChild(docLink);\n",
              "        }\n",
              "      </script>\n",
              "    </div>\n",
              "  </div>\n",
              "  "
            ]
          },
          "metadata": {},
          "execution_count": 96
        }
      ]
    },
    {
      "cell_type": "code",
      "source": [
        "data.shape"
      ],
      "metadata": {
        "colab": {
          "base_uri": "https://localhost:8080/"
        },
        "id": "C8l-8xzMb_ss",
        "outputId": "77eb3dda-91fd-4a9a-e6b9-ce1575fc2ec1"
      },
      "execution_count": null,
      "outputs": [
        {
          "output_type": "execute_result",
          "data": {
            "text/plain": [
              "(1599, 12)"
            ]
          },
          "metadata": {},
          "execution_count": 97
        }
      ]
    },
    {
      "cell_type": "code",
      "source": [
        "data.info()"
      ],
      "metadata": {
        "colab": {
          "base_uri": "https://localhost:8080/"
        },
        "id": "IfpIsVhRcK5G",
        "outputId": "fee817f7-df0f-4e77-acba-3a069b899c93"
      },
      "execution_count": null,
      "outputs": [
        {
          "output_type": "stream",
          "name": "stdout",
          "text": [
            "<class 'pandas.core.frame.DataFrame'>\n",
            "RangeIndex: 1599 entries, 0 to 1598\n",
            "Data columns (total 12 columns):\n",
            " #   Column                Non-Null Count  Dtype  \n",
            "---  ------                --------------  -----  \n",
            " 0   fixed acidity         1599 non-null   float64\n",
            " 1   volatile acidity      1599 non-null   float64\n",
            " 2   citric acid           1599 non-null   float64\n",
            " 3   residual sugar        1599 non-null   float64\n",
            " 4   chlorides             1599 non-null   float64\n",
            " 5   free sulfur dioxide   1599 non-null   float64\n",
            " 6   total sulfur dioxide  1599 non-null   float64\n",
            " 7   density               1599 non-null   float64\n",
            " 8   pH                    1599 non-null   float64\n",
            " 9   sulphates             1599 non-null   float64\n",
            " 10  alcohol               1599 non-null   float64\n",
            " 11  quality               1599 non-null   int64  \n",
            "dtypes: float64(11), int64(1)\n",
            "memory usage: 150.0 KB\n"
          ]
        }
      ]
    },
    {
      "cell_type": "code",
      "source": [
        "data.isna().sum()"
      ],
      "metadata": {
        "colab": {
          "base_uri": "https://localhost:8080/"
        },
        "id": "XDT06yPMcM0O",
        "outputId": "e3521b7d-5304-4b68-b026-b06e1105c6f8"
      },
      "execution_count": null,
      "outputs": [
        {
          "output_type": "execute_result",
          "data": {
            "text/plain": [
              "fixed acidity           0\n",
              "volatile acidity        0\n",
              "citric acid             0\n",
              "residual sugar          0\n",
              "chlorides               0\n",
              "free sulfur dioxide     0\n",
              "total sulfur dioxide    0\n",
              "density                 0\n",
              "pH                      0\n",
              "sulphates               0\n",
              "alcohol                 0\n",
              "quality                 0\n",
              "dtype: int64"
            ]
          },
          "metadata": {},
          "execution_count": 99
        }
      ]
    },
    {
      "cell_type": "code",
      "source": [
        "dgraph = data.select_dtypes(include = [\"float\",\"int\"])\n",
        "dgraph.hist(figsize=(15,11))\n",
        "plt.show()"
      ],
      "metadata": {
        "colab": {
          "base_uri": "https://localhost:8080/",
          "height": 641
        },
        "id": "0amYb5PjcTK3",
        "outputId": "6a02eb2f-d17f-4ee3-f6fb-1a196db45429"
      },
      "execution_count": null,
      "outputs": [
        {
          "output_type": "display_data",
          "data": {
            "text/plain": [
              "<Figure size 1500x1100 with 12 Axes>"
            ],
            "image/png": "[encoded data removed]"
          },
          "metadata": {}
        }
      ]
    },
    {
      "cell_type": "code",
      "source": [
        "data.columns"
      ],
      "metadata": {
        "colab": {
          "base_uri": "https://localhost:8080/"
        },
        "id": "bcqNGwVGcj8y",
        "outputId": "6441c680-bfba-47cc-d988-4c6fe6a11f70"
      },
      "execution_count": null,
      "outputs": [
        {
          "output_type": "execute_result",
          "data": {
            "text/plain": [
              "Index(['fixed acidity', 'volatile acidity', 'citric acid', 'residual sugar',\n",
              "       'chlorides', 'free sulfur dioxide', 'total sulfur dioxide', 'density',\n",
              "       'pH', 'sulphates', 'alcohol', 'quality'],\n",
              "      dtype='object')"
            ]
          },
          "metadata": {},
          "execution_count": 101
        }
      ]
    },
    {
      "cell_type": "code",
      "source": [
        "data.groupby(\"quality\")[\"alcohol\"].mean()"
      ],
      "metadata": {
        "colab": {
          "base_uri": "https://localhost:8080/"
        },
        "id": "sJe7dRIwc06K",
        "outputId": "e08094cb-d69b-4162-c123-b1f6dd941fe0"
      },
      "execution_count": null,
      "outputs": [
        {
          "output_type": "execute_result",
          "data": {
            "text/plain": [
              "quality\n",
              "3     9.955000\n",
              "4    10.265094\n",
              "5     9.899706\n",
              "6    10.629519\n",
              "7    11.465913\n",
              "8    12.094444\n",
              "Name: alcohol, dtype: float64"
            ]
          },
          "metadata": {},
          "execution_count": 102
        }
      ]
    },
    {
      "cell_type": "code",
      "source": [
        "data.quality.nunique()"
      ],
      "metadata": {
        "colab": {
          "base_uri": "https://localhost:8080/"
        },
        "id": "7W3oTrxHdOFz",
        "outputId": "e9353d7a-4b70-4400-8108-5e972ec7110b"
      },
      "execution_count": null,
      "outputs": [
        {
          "output_type": "execute_result",
          "data": {
            "text/plain": [
              "6"
            ]
          },
          "metadata": {},
          "execution_count": 103
        }
      ]
    },
    {
      "cell_type": "code",
      "source": [
        "data.drop(['fixed acidity','free sulfur dioxide','density'], axis=1, inplace=True)\n",
        "data.columns"
      ],
      "metadata": {
        "colab": {
          "base_uri": "https://localhost:8080/"
        },
        "id": "Idti00tbdjgC",
        "outputId": "e2cff204-b1a8-4013-fb76-31367c18812f"
      },
      "execution_count": null,
      "outputs": [
        {
          "output_type": "execute_result",
          "data": {
            "text/plain": [
              "Index(['volatile acidity', 'citric acid', 'residual sugar', 'chlorides',\n",
              "       'total sulfur dioxide', 'pH', 'sulphates', 'alcohol', 'quality'],\n",
              "      dtype='object')"
            ]
          },
          "metadata": {},
          "execution_count": 104
        }
      ]
    },
    {
      "cell_type": "code",
      "source": [
        "data.head()"
      ],
      "metadata": {
        "colab": {
          "base_uri": "https://localhost:8080/",
          "height": 268
        },
        "id": "h3BJc9yLewcY",
        "outputId": "5b81f9a4-2758-42d6-8701-54e8e0de46b6"
      },
      "execution_count": null,
      "outputs": [
        {
          "output_type": "execute_result",
          "data": {
            "text/plain": [
              "   volatile acidity  citric acid  residual sugar  chlorides  \\\n",
              "0              0.70         0.00             1.9      0.076   \n",
              "1              0.88         0.00             2.6      0.098   \n",
              "2              0.76         0.04             2.3      0.092   \n",
              "3              0.28         0.56             1.9      0.075   \n",
              "4              0.70         0.00             1.9      0.076   \n",
              "\n",
              "   total sulfur dioxide    pH  sulphates  alcohol  quality  \n",
              "0                  34.0  3.51       0.56      9.4        5  \n",
              "1                  67.0  3.20       0.68      9.8        5  \n",
              "2                  54.0  3.26       0.65      9.8        5  \n",
              "3                  60.0  3.16       0.58      9.8        6  \n",
              "4                  34.0  3.51       0.56      9.4        5  "
            ],
            "text/html": [
              "\n",
              "  <div id=\"df-518c840a-ff35-4411-9110-3755407e0313\">\n",
              "    <div class=\"colab-df-container\">\n",
              "      <div>\n",
              "<style scoped>\n",
              "    .dataframe tbody tr th:only-of-type {\n",
              "        vertical-align: middle;\n",
              "    }\n",
              "\n",
              "    .dataframe tbody tr th {\n",
              "        vertical-align: top;\n",
              "    }\n",
              "\n",
              "    .dataframe thead th {\n",
              "        text-align: right;\n",
              "    }\n",
              "</style>\n",
              "<table border=\"1\" class=\"dataframe\">\n",
              "  <thead>\n",
              "    <tr style=\"text-align: right;\">\n",
              "      <th></th>\n",
              "      <th>volatile acidity</th>\n",
              "      <th>citric acid</th>\n",
              "      <th>residual sugar</th>\n",
              "      <th>chlorides</th>\n",
              "      <th>total sulfur dioxide</th>\n",
              "      <th>pH</th>\n",
              "      <th>sulphates</th>\n",
              "      <th>alcohol</th>\n",
              "      <th>quality</th>\n",
              "    </tr>\n",
              "  </thead>\n",
              "  <tbody>\n",
              "    <tr>\n",
              "      <th>0</th>\n",
              "      <td>0.70</td>\n",
              "      <td>0.00</td>\n",
              "      <td>1.9</td>\n",
              "      <td>0.076</td>\n",
              "      <td>34.0</td>\n",
              "      <td>3.51</td>\n",
              "      <td>0.56</td>\n",
              "      <td>9.4</td>\n",
              "      <td>5</td>\n",
              "    </tr>\n",
              "    <tr>\n",
              "      <th>1</th>\n",
              "      <td>0.88</td>\n",
              "      <td>0.00</td>\n",
              "      <td>2.6</td>\n",
              "      <td>0.098</td>\n",
              "      <td>67.0</td>\n",
              "      <td>3.20</td>\n",
              "      <td>0.68</td>\n",
              "      <td>9.8</td>\n",
              "      <td>5</td>\n",
              "    </tr>\n",
              "    <tr>\n",
              "      <th>2</th>\n",
              "      <td>0.76</td>\n",
              "      <td>0.04</td>\n",
              "      <td>2.3</td>\n",
              "      <td>0.092</td>\n",
              "      <td>54.0</td>\n",
              "      <td>3.26</td>\n",
              "      <td>0.65</td>\n",
              "      <td>9.8</td>\n",
              "      <td>5</td>\n",
              "    </tr>\n",
              "    <tr>\n",
              "      <th>3</th>\n",
              "      <td>0.28</td>\n",
              "      <td>0.56</td>\n",
              "      <td>1.9</td>\n",
              "      <td>0.075</td>\n",
              "      <td>60.0</td>\n",
              "      <td>3.16</td>\n",
              "      <td>0.58</td>\n",
              "      <td>9.8</td>\n",
              "      <td>6</td>\n",
              "    </tr>\n",
              "    <tr>\n",
              "      <th>4</th>\n",
              "      <td>0.70</td>\n",
              "      <td>0.00</td>\n",
              "      <td>1.9</td>\n",
              "      <td>0.076</td>\n",
              "      <td>34.0</td>\n",
              "      <td>3.51</td>\n",
              "      <td>0.56</td>\n",
              "      <td>9.4</td>\n",
              "      <td>5</td>\n",
              "    </tr>\n",
              "  </tbody>\n",
              "</table>\n",
              "</div>\n",
              "      <button class=\"colab-df-convert\" onclick=\"convertToInteractive('df-518c840a-ff35-4411-9110-3755407e0313')\"\n",
              "              title=\"Convert this dataframe to an interactive table.\"\n",
              "              style=\"display:none;\">\n",
              "        \n",
              "  <svg xmlns=\"http://www.w3.org/2000/svg\" height=\"24px\"viewBox=\"0 0 24 24\"\n",
              "       width=\"24px\">\n",
              "    <path d=\"M0 0h24v24H0V0z\" fill=\"none\"/>\n",
              "    <path d=\"M18.56 5.44l.94 2.06.94-2.06 2.06-.94-2.06-.94-.94-2.06-.94 2.06-2.06.94zm-11 1L8.5 8.5l.94-2.06 2.06-.94-2.06-.94L8.5 2.5l-.94 2.06-2.06.94zm10 10l.94 2.06.94-2.06 2.06-.94-2.06-.94-.94-2.06-.94 2.06-2.06.94z\"/><path d=\"M17.41 7.96l-1.37-1.37c-.4-.4-.92-.59-1.43-.59-.52 0-1.04.2-1.43.59L10.3 9.45l-7.72 7.72c-.78.78-.78 2.05 0 2.83L4 21.41c.39.39.9.59 1.41.59.51 0 1.02-.2 1.41-.59l7.78-7.78 2.81-2.81c.8-.78.8-2.07 0-2.86zM5.41 20L4 18.59l7.72-7.72 1.47 1.35L5.41 20z\"/>\n",
              "  </svg>\n",
              "      </button>\n",
              "      \n",
              "  <style>\n",
              "    .colab-df-container {\n",
              "      display:flex;\n",
              "      flex-wrap:wrap;\n",
              "      gap: 12px;\n",
              "    }\n",
              "\n",
              "    .colab-df-convert {\n",
              "      background-color: #E8F0FE;\n",
              "      border: none;\n",
              "      border-radius: 50%;\n",
              "      cursor: pointer;\n",
              "      display: none;\n",
              "      fill: #1967D2;\n",
              "      height: 32px;\n",
              "      padding: 0 0 0 0;\n",
              "      width: 32px;\n",
              "    }\n",
              "\n",
              "    .colab-df-convert:hover {\n",
              "      background-color: #E2EBFA;\n",
              "      box-shadow: 0px 1px 2px rgba(60, 64, 67, 0.3), 0px 1px 3px 1px rgba(60, 64, 67, 0.15);\n",
              "      fill: #174EA6;\n",
              "    }\n",
              "\n",
              "    [theme=dark] .colab-df-convert {\n",
              "      background-color: #3B4455;\n",
              "      fill: #D2E3FC;\n",
              "    }\n",
              "\n",
              "    [theme=dark] .colab-df-convert:hover {\n",
              "      background-color: #434B5C;\n",
              "      box-shadow: 0px 1px 3px 1px rgba(0, 0, 0, 0.15);\n",
              "      filter: drop-shadow(0px 1px 2px rgba(0, 0, 0, 0.3));\n",
              "      fill: #FFFFFF;\n",
              "    }\n",
              "  </style>\n",
              "\n",
              "      <script>\n",
              "        const buttonEl =\n",
              "          document.querySelector('#df-518c840a-ff35-4411-9110-3755407e0313 button.colab-df-convert');\n",
              "        buttonEl.style.display =\n",
              "          google.colab.kernel.accessAllowed ? 'block' : 'none';\n",
              "\n",
              "        async function convertToInteractive(key) {\n",
              "          const element = document.querySelector('#df-518c840a-ff35-4411-9110-3755407e0313');\n",
              "          const dataTable =\n",
              "            await google.colab.kernel.invokeFunction('convertToInteractive',\n",
              "                                                     [key], {});\n",
              "          if (!dataTable) return;\n",
              "\n",
              "          const docLinkHtml = 'Like what you see? Visit the ' +\n",
              "            '<a target=\"_blank\" href=https://colab.research.google.com/notebooks/data_table.ipynb>data table notebook</a>'\n",
              "            + ' to learn more about interactive tables.';\n",
              "          element.innerHTML = '';\n",
              "          dataTable['output_type'] = 'display_data';\n",
              "          await google.colab.output.renderOutput(dataTable, element);\n",
              "          const docLink = document.createElement('div');\n",
              "          docLink.innerHTML = docLinkHtml;\n",
              "          element.appendChild(docLink);\n",
              "        }\n",
              "      </script>\n",
              "    </div>\n",
              "  </div>\n",
              "  "
            ]
          },
          "metadata": {},
          "execution_count": 105
        }
      ]
    },
    {
      "cell_type": "code",
      "source": [
        "plt.boxplot(data[\"volatile acidity\"])\n",
        "plt.title(\"box plot of volatile acidity\")"
      ],
      "metadata": {
        "colab": {
          "base_uri": "https://localhost:8080/",
          "height": 469
        },
        "id": "qouutoO_ft9Z",
        "outputId": "f89bdc41-c80d-4628-ef39-9cc478f719d2"
      },
      "execution_count": null,
      "outputs": [
        {
          "output_type": "execute_result",
          "data": {
            "text/plain": [
              "Text(0.5, 1.0, 'box plot of volatile acidity')"
            ]
          },
          "metadata": {},
          "execution_count": 106
        },
        {
          "output_type": "display_data",
          "data": {
            "text/plain": [
              "<Figure size 640x480 with 1 Axes>"
            ],
            "image/png": "[encoded data removed]"
          },
          "metadata": {}
        }
      ]
    },
    {
      "cell_type": "code",
      "source": [
        "q1 = np.percentile(data[\"volatile acidity\"],25, interpolation=\"midpoint\")\n",
        "q2 = np.percentile(data[\"volatile acidity\"],50, interpolation=\"midpoint\")\n",
        "q3 = np.percentile(data[\"volatile acidity\"],75, interpolation=\"midpoint\")\n",
        "\n",
        "print(q1)\n",
        "print(q2)\n",
        "print(q3)"
      ],
      "metadata": {
        "colab": {
          "base_uri": "https://localhost:8080/"
        },
        "id": "HDaDY4QugGXr",
        "outputId": "3ee6fb35-c166-42b4-bdd2-0cf4fd6ac7d6"
      },
      "execution_count": null,
      "outputs": [
        {
          "output_type": "stream",
          "name": "stdout",
          "text": [
            "0.39\n",
            "0.52\n",
            "0.64\n"
          ]
        },
        {
          "output_type": "stream",
          "name": "stderr",
          "text": [
            "<ipython-input-107-6949547ae523>:1: DeprecationWarning: the `interpolation=` argument to percentile was renamed to `method=`, which has additional options.\n",
            "Users of the modes 'nearest', 'lower', 'higher', or 'midpoint' are encouraged to review the method they. (Deprecated NumPy 1.22)\n",
            "  q1 = np.percentile(data[\"volatile acidity\"],25, interpolation=\"midpoint\")\n",
            "<ipython-input-107-6949547ae523>:2: DeprecationWarning: the `interpolation=` argument to percentile was renamed to `method=`, which has additional options.\n",
            "Users of the modes 'nearest', 'lower', 'higher', or 'midpoint' are encouraged to review the method they. (Deprecated NumPy 1.22)\n",
            "  q2 = np.percentile(data[\"volatile acidity\"],50, interpolation=\"midpoint\")\n",
            "<ipython-input-107-6949547ae523>:3: DeprecationWarning: the `interpolation=` argument to percentile was renamed to `method=`, which has additional options.\n",
            "Users of the modes 'nearest', 'lower', 'higher', or 'midpoint' are encouraged to review the method they. (Deprecated NumPy 1.22)\n",
            "  q3 = np.percentile(data[\"volatile acidity\"],75, interpolation=\"midpoint\")\n"
          ]
        }
      ]
    },
    {
      "cell_type": "code",
      "source": [
        "data[\"volatile acidity\"].median()"
      ],
      "metadata": {
        "colab": {
          "base_uri": "https://localhost:8080/"
        },
        "id": "gOksCq3bgWEv",
        "outputId": "226f9123-9739-48a2-f84d-30b4f5a2cd3f"
      },
      "execution_count": null,
      "outputs": [
        {
          "output_type": "execute_result",
          "data": {
            "text/plain": [
              "0.52"
            ]
          },
          "metadata": {},
          "execution_count": 108
        }
      ]
    },
    {
      "cell_type": "code",
      "source": [
        "iqr = q3-q1\n",
        "\n",
        "low_limit = q1-1.5*iqr\n",
        "upp_limit = q3+1.5*iqr\n",
        "\n",
        "print(low_limit)\n",
        "print(upp_limit)"
      ],
      "metadata": {
        "colab": {
          "base_uri": "https://localhost:8080/"
        },
        "id": "sfhQv96LgezN",
        "outputId": "5eb0a169-6a8f-400c-a702-63d6a1215fd6"
      },
      "execution_count": null,
      "outputs": [
        {
          "output_type": "stream",
          "name": "stdout",
          "text": [
            "0.015000000000000013\n",
            "1.0150000000000001\n"
          ]
        }
      ]
    },
    {
      "cell_type": "code",
      "source": [
        "outlier = []\n",
        "for x in data[\"volatile acidity\"]:\n",
        "  if((x>upp_limit)or(x<low_limit)):\n",
        "    outlier.append(x)\n",
        "  \n",
        "outlier"
      ],
      "metadata": {
        "colab": {
          "base_uri": "https://localhost:8080/"
        },
        "id": "oHrGtXjng4rb",
        "outputId": "ec412e5a-ea00-4875-87c6-931d56e5ae12"
      },
      "execution_count": null,
      "outputs": [
        {
          "output_type": "execute_result",
          "data": {
            "text/plain": [
              "[1.13,\n",
              " 1.02,\n",
              " 1.07,\n",
              " 1.33,\n",
              " 1.33,\n",
              " 1.04,\n",
              " 1.09,\n",
              " 1.04,\n",
              " 1.24,\n",
              " 1.185,\n",
              " 1.02,\n",
              " 1.035,\n",
              " 1.025,\n",
              " 1.115,\n",
              " 1.02,\n",
              " 1.02,\n",
              " 1.58,\n",
              " 1.18,\n",
              " 1.04]"
            ]
          },
          "metadata": {},
          "execution_count": 110
        }
      ]
    },
    {
      "cell_type": "code",
      "source": [
        "ind1 = data[\"volatile acidity\"]>upp_limit\n",
        "data.loc[ind1].index"
      ],
      "metadata": {
        "colab": {
          "base_uri": "https://localhost:8080/"
        },
        "id": "4F9znOr7hA-p",
        "outputId": "6a827393-c293-4914-fe3b-056d83286bac"
      },
      "execution_count": null,
      "outputs": [
        {
          "output_type": "execute_result",
          "data": {
            "text/plain": [
              "Int64Index([  38,   94,  120,  126,  127,  134,  199,  553,  672,  690,  700,\n",
              "             705,  710,  724,  899, 1261, 1299, 1312, 1467],\n",
              "           dtype='int64')"
            ]
          },
          "metadata": {},
          "execution_count": 111
        }
      ]
    },
    {
      "cell_type": "code",
      "source": [
        "data.drop([38,   94,  120,  126,  127,  134,  199,  553,  672,  690,  700,\n",
        "             705,  710,  724,  899, 1261, 1299, 1312, 1467],inplace=True)"
      ],
      "metadata": {
        "id": "pGA4lukTheYC"
      },
      "execution_count": null,
      "outputs": []
    },
    {
      "cell_type": "code",
      "source": [
        "plt.boxplot(data[\"volatile acidity\"])\n",
        "plt.title(\"box plot of volatile acidity\")"
      ],
      "metadata": {
        "colab": {
          "base_uri": "https://localhost:8080/",
          "height": 469
        },
        "id": "EL_m9fsMh7QH",
        "outputId": "b0238be7-4330-4bd3-a52f-f37ce3069683"
      },
      "execution_count": null,
      "outputs": [
        {
          "output_type": "execute_result",
          "data": {
            "text/plain": [
              "Text(0.5, 1.0, 'box plot of volatile acidity')"
            ]
          },
          "metadata": {},
          "execution_count": 113
        },
        {
          "output_type": "display_data",
          "data": {
            "text/plain": [
              "<Figure size 640x480 with 1 Axes>"
            ],
            "image/png": "[encoded data removed]"
          },
          "metadata": {}
        }
      ]
    },
    {
      "cell_type": "code",
      "source": [
        "plt.boxplot(data[\"citric acid\"])\n",
        "plt.title(\"box plot of citric acid\")"
      ],
      "metadata": {
        "colab": {
          "base_uri": "https://localhost:8080/",
          "height": 469
        },
        "id": "2COzg6qkiDMf",
        "outputId": "21713478-7434-418e-afb9-6f4efb740f6e"
      },
      "execution_count": null,
      "outputs": [
        {
          "output_type": "execute_result",
          "data": {
            "text/plain": [
              "Text(0.5, 1.0, 'box plot of citric acid')"
            ]
          },
          "metadata": {},
          "execution_count": 114
        },
        {
          "output_type": "display_data",
          "data": {
            "text/plain": [
              "<Figure size 640x480 with 1 Axes>"
            ],
            "image/png": "[encoded data removed]"
          },
          "metadata": {}
        }
      ]
    },
    {
      "cell_type": "code",
      "source": [
        "q1 = np.percentile(data[\"citric acid\"],25, interpolation=\"midpoint\")\n",
        "q2 = np.percentile(data[\"citric acid\"],50, interpolation=\"midpoint\")\n",
        "q3 = np.percentile(data[\"citric acid\"],75, interpolation=\"midpoint\")\n",
        "\n",
        "print(q1)\n",
        "print(q2)\n",
        "print(q3)"
      ],
      "metadata": {
        "colab": {
          "base_uri": "https://localhost:8080/"
        },
        "id": "1tMIitkJvMnA",
        "outputId": "b0992314-95af-4a5a-b7fe-63170735295f"
      },
      "execution_count": null,
      "outputs": [
        {
          "output_type": "stream",
          "name": "stdout",
          "text": [
            "0.1\n",
            "0.26\n",
            "0.43\n"
          ]
        },
        {
          "output_type": "stream",
          "name": "stderr",
          "text": [
            "<ipython-input-115-6f8e3c2a828a>:1: DeprecationWarning: the `interpolation=` argument to percentile was renamed to `method=`, which has additional options.\n",
            "Users of the modes 'nearest', 'lower', 'higher', or 'midpoint' are encouraged to review the method they. (Deprecated NumPy 1.22)\n",
            "  q1 = np.percentile(data[\"citric acid\"],25, interpolation=\"midpoint\")\n",
            "<ipython-input-115-6f8e3c2a828a>:2: DeprecationWarning: the `interpolation=` argument to percentile was renamed to `method=`, which has additional options.\n",
            "Users of the modes 'nearest', 'lower', 'higher', or 'midpoint' are encouraged to review the method they. (Deprecated NumPy 1.22)\n",
            "  q2 = np.percentile(data[\"citric acid\"],50, interpolation=\"midpoint\")\n",
            "<ipython-input-115-6f8e3c2a828a>:3: DeprecationWarning: the `interpolation=` argument to percentile was renamed to `method=`, which has additional options.\n",
            "Users of the modes 'nearest', 'lower', 'higher', or 'midpoint' are encouraged to review the method they. (Deprecated NumPy 1.22)\n",
            "  q3 = np.percentile(data[\"citric acid\"],75, interpolation=\"midpoint\")\n"
          ]
        }
      ]
    },
    {
      "cell_type": "code",
      "source": [
        "iqr = q3-q1\n",
        "\n",
        "low_limit = q1-1.5*iqr\n",
        "upp_limit = q3+1.5*iqr\n",
        "\n",
        "print(low_limit)\n",
        "print(upp_limit)"
      ],
      "metadata": {
        "colab": {
          "base_uri": "https://localhost:8080/"
        },
        "id": "nuVVUa1Fvfpj",
        "outputId": "afba3c8e-1fcc-4940-dde9-2995d8152a4c"
      },
      "execution_count": null,
      "outputs": [
        {
          "output_type": "stream",
          "name": "stdout",
          "text": [
            "-0.3949999999999999\n",
            "0.9249999999999999\n"
          ]
        }
      ]
    },
    {
      "cell_type": "code",
      "source": [
        "outlier = []\n",
        "for x in data[\"volatile acidity\"]:\n",
        "  if((x>upp_limit)or(x<low_limit)):\n",
        "    outlier.append(x)\n",
        "  \n",
        "outlier"
      ],
      "metadata": {
        "colab": {
          "base_uri": "https://localhost:8080/"
        },
        "id": "udNum69Qvm3s",
        "outputId": "469679df-a9d4-4293-a61a-1af6bdc2b8c1"
      },
      "execution_count": null,
      "outputs": [
        {
          "output_type": "execute_result",
          "data": {
            "text/plain": [
              "[0.935,\n",
              " 0.95,\n",
              " 1.0,\n",
              " 1.0,\n",
              " 0.975,\n",
              " 0.96,\n",
              " 0.96,\n",
              " 0.935,\n",
              " 0.98,\n",
              " 0.965,\n",
              " 0.965,\n",
              " 0.98,\n",
              " 1.0,\n",
              " 1.01,\n",
              " 1.005,\n",
              " 0.965,\n",
              " 0.955,\n",
              " 0.96,\n",
              " 0.98]"
            ]
          },
          "metadata": {},
          "execution_count": 117
        }
      ]
    },
    {
      "cell_type": "code",
      "source": [
        "ind1 = data[\"volatile acidity\"]>upp_limit\n",
        "data.loc[ind1].index"
      ],
      "metadata": {
        "colab": {
          "base_uri": "https://localhost:8080/"
        },
        "id": "BO4PNWjjvrYX",
        "outputId": "d9a4e947-d339-4e41-8a12-fbde7a2bc557"
      },
      "execution_count": null,
      "outputs": [
        {
          "output_type": "execute_result",
          "data": {
            "text/plain": [
              "Int64Index([  46,  160,  234,  239,  261,  422,  424,  633,  684,  735,  736,\n",
              "             756,  775,  861, 1012, 1040, 1189, 1410, 1469],\n",
              "           dtype='int64')"
            ]
          },
          "metadata": {},
          "execution_count": 118
        }
      ]
    },
    {
      "cell_type": "code",
      "source": [
        "data.drop([46,  160,  234,  239,  261,  422,  424,  633,  684,  735,  736,\n",
        "             756,  775,  861, 1012, 1040, 1189, 1410, 1469],inplace=True)"
      ],
      "metadata": {
        "id": "yAY8p_kzvzHc"
      },
      "execution_count": null,
      "outputs": []
    },
    {
      "cell_type": "code",
      "source": [
        "plt.boxplot(data[\"citric acid\"])\n",
        "plt.title(\"box plot of citric acid\")"
      ],
      "metadata": {
        "colab": {
          "base_uri": "https://localhost:8080/",
          "height": 469
        },
        "id": "OzzmTelxwArf",
        "outputId": "13d992fe-f55d-437b-8ac7-93556a876423"
      },
      "execution_count": null,
      "outputs": [
        {
          "output_type": "execute_result",
          "data": {
            "text/plain": [
              "Text(0.5, 1.0, 'box plot of citric acid')"
            ]
          },
          "metadata": {},
          "execution_count": 120
        },
        {
          "output_type": "display_data",
          "data": {
            "text/plain": [
              "<Figure size 640x480 with 1 Axes>"
            ],
            "image/png": "[encoded data removed]"
          },
          "metadata": {}
        }
      ]
    },
    {
      "cell_type": "code",
      "source": [
        "data.columns"
      ],
      "metadata": {
        "colab": {
          "base_uri": "https://localhost:8080/"
        },
        "id": "9DCN-uNZxVwR",
        "outputId": "f88b4996-1b59-42ee-d611-841d47601c49"
      },
      "execution_count": null,
      "outputs": [
        {
          "output_type": "execute_result",
          "data": {
            "text/plain": [
              "Index(['volatile acidity', 'citric acid', 'residual sugar', 'chlorides',\n",
              "       'total sulfur dioxide', 'pH', 'sulphates', 'alcohol', 'quality'],\n",
              "      dtype='object')"
            ]
          },
          "metadata": {},
          "execution_count": 121
        }
      ]
    },
    {
      "cell_type": "code",
      "source": [
        "plt.boxplot(data[\"residual sugar\"])\n",
        "plt.title(\"box plot of residual sugar\")"
      ],
      "metadata": {
        "colab": {
          "base_uri": "https://localhost:8080/",
          "height": 469
        },
        "id": "mxWuo4m2wGIB",
        "outputId": "5f40247c-f951-4465-befb-0ddee59124a7"
      },
      "execution_count": null,
      "outputs": [
        {
          "output_type": "execute_result",
          "data": {
            "text/plain": [
              "Text(0.5, 1.0, 'box plot of residual sugar')"
            ]
          },
          "metadata": {},
          "execution_count": 122
        },
        {
          "output_type": "display_data",
          "data": {
            "text/plain": [
              "<Figure size 640x480 with 1 Axes>"
            ],
            "image/png": "[encoded data removed]"
          },
          "metadata": {}
        }
      ]
    },
    {
      "cell_type": "code",
      "source": [
        "q1 = np.percentile(data[\"residual sugar\"],25, interpolation=\"midpoint\")\n",
        "q2 = np.percentile(data[\"residual sugar\"],50, interpolation=\"midpoint\")\n",
        "q3 = np.percentile(data[\"residual sugar\"],75, interpolation=\"midpoint\")\n",
        "\n",
        "print(q1)\n",
        "print(q2)\n",
        "print(q3)"
      ],
      "metadata": {
        "colab": {
          "base_uri": "https://localhost:8080/"
        },
        "id": "o1g_gy2mxUBH",
        "outputId": "940650ec-0880-4d11-e5d9-33da2fe1211a"
      },
      "execution_count": null,
      "outputs": [
        {
          "output_type": "stream",
          "name": "stdout",
          "text": [
            "1.9\n",
            "2.2\n",
            "2.6\n"
          ]
        },
        {
          "output_type": "stream",
          "name": "stderr",
          "text": [
            "<ipython-input-123-4352bde198b2>:1: DeprecationWarning: the `interpolation=` argument to percentile was renamed to `method=`, which has additional options.\n",
            "Users of the modes 'nearest', 'lower', 'higher', or 'midpoint' are encouraged to review the method they. (Deprecated NumPy 1.22)\n",
            "  q1 = np.percentile(data[\"residual sugar\"],25, interpolation=\"midpoint\")\n",
            "<ipython-input-123-4352bde198b2>:2: DeprecationWarning: the `interpolation=` argument to percentile was renamed to `method=`, which has additional options.\n",
            "Users of the modes 'nearest', 'lower', 'higher', or 'midpoint' are encouraged to review the method they. (Deprecated NumPy 1.22)\n",
            "  q2 = np.percentile(data[\"residual sugar\"],50, interpolation=\"midpoint\")\n",
            "<ipython-input-123-4352bde198b2>:3: DeprecationWarning: the `interpolation=` argument to percentile was renamed to `method=`, which has additional options.\n",
            "Users of the modes 'nearest', 'lower', 'higher', or 'midpoint' are encouraged to review the method they. (Deprecated NumPy 1.22)\n",
            "  q3 = np.percentile(data[\"residual sugar\"],75, interpolation=\"midpoint\")\n"
          ]
        }
      ]
    },
    {
      "cell_type": "code",
      "source": [
        "iqr = q3-q1\n",
        "\n",
        "low_limit = q1-1.5*iqr\n",
        "upp_limit = q3+1.5*iqr\n",
        "\n",
        "print(low_limit)\n",
        "print(upp_limit)"
      ],
      "metadata": {
        "colab": {
          "base_uri": "https://localhost:8080/"
        },
        "id": "_thE-GoNxjT9",
        "outputId": "07562522-851c-457d-ec50-3e072e349067"
      },
      "execution_count": null,
      "outputs": [
        {
          "output_type": "stream",
          "name": "stdout",
          "text": [
            "0.8499999999999996\n",
            "3.6500000000000004\n"
          ]
        }
      ]
    },
    {
      "cell_type": "code",
      "source": [
        "outlier = []\n",
        "for x in data[\"residual sugar\"]:\n",
        "  if((x>upp_limit)or(x<low_limit)):\n",
        "    outlier.append(x)\n",
        "  \n",
        "outlier"
      ],
      "metadata": {
        "colab": {
          "base_uri": "https://localhost:8080/"
        },
        "id": "Y_GMFHC-xms2",
        "outputId": "578ac7c1-793d-4b8f-c9c4-7a388653ed90"
      },
      "execution_count": null,
      "outputs": [
        {
          "output_type": "execute_result",
          "data": {
            "text/plain": [
              "[6.1,\n",
              " 6.1,\n",
              " 3.8,\n",
              " 3.9,\n",
              " 4.4,\n",
              " 10.7,\n",
              " 5.5,\n",
              " 5.9,\n",
              " 5.9,\n",
              " 3.8,\n",
              " 5.1,\n",
              " 4.65,\n",
              " 4.65,\n",
              " 5.5,\n",
              " 5.5,\n",
              " 5.5,\n",
              " 5.5,\n",
              " 7.3,\n",
              " 7.2,\n",
              " 3.8,\n",
              " 5.6,\n",
              " 4.0,\n",
              " 4.0,\n",
              " 4.0,\n",
              " 4.0,\n",
              " 7.0,\n",
              " 4.0,\n",
              " 4.0,\n",
              " 6.4,\n",
              " 5.6,\n",
              " 5.6,\n",
              " 11.0,\n",
              " 11.0,\n",
              " 4.5,\n",
              " 4.8,\n",
              " 5.8,\n",
              " 5.8,\n",
              " 3.8,\n",
              " 4.4,\n",
              " 6.2,\n",
              " 4.2,\n",
              " 7.9,\n",
              " 7.9,\n",
              " 3.7,\n",
              " 4.5,\n",
              " 6.7,\n",
              " 6.6,\n",
              " 3.7,\n",
              " 5.2,\n",
              " 15.5,\n",
              " 4.1,\n",
              " 8.3,\n",
              " 6.55,\n",
              " 6.55,\n",
              " 4.6,\n",
              " 6.1,\n",
              " 4.3,\n",
              " 5.8,\n",
              " 5.15,\n",
              " 6.3,\n",
              " 4.2,\n",
              " 4.2,\n",
              " 4.6,\n",
              " 4.2,\n",
              " 4.6,\n",
              " 4.3,\n",
              " 4.3,\n",
              " 7.9,\n",
              " 4.6,\n",
              " 5.1,\n",
              " 5.6,\n",
              " 5.6,\n",
              " 6.0,\n",
              " 8.6,\n",
              " 7.5,\n",
              " 4.4,\n",
              " 3.9,\n",
              " 4.2,\n",
              " 4.0,\n",
              " 4.0,\n",
              " 4.0,\n",
              " 6.6,\n",
              " 6.0,\n",
              " 6.0,\n",
              " 3.8,\n",
              " 9.0,\n",
              " 4.6,\n",
              " 8.8,\n",
              " 8.8,\n",
              " 5.0,\n",
              " 3.8,\n",
              " 4.1,\n",
              " 5.9,\n",
              " 4.1,\n",
              " 6.2,\n",
              " 8.9,\n",
              " 4.0,\n",
              " 3.9,\n",
              " 4.0,\n",
              " 8.1,\n",
              " 8.1,\n",
              " 6.4,\n",
              " 6.4,\n",
              " 8.3,\n",
              " 8.3,\n",
              " 4.7,\n",
              " 5.5,\n",
              " 5.5,\n",
              " 4.3,\n",
              " 5.5,\n",
              " 3.7,\n",
              " 6.2,\n",
              " 5.6,\n",
              " 7.8,\n",
              " 4.6,\n",
              " 5.8,\n",
              " 4.1,\n",
              " 12.9,\n",
              " 4.3,\n",
              " 13.4,\n",
              " 4.8,\n",
              " 6.3,\n",
              " 4.5,\n",
              " 4.5,\n",
              " 4.3,\n",
              " 4.3,\n",
              " 3.9,\n",
              " 3.8,\n",
              " 5.4,\n",
              " 3.8,\n",
              " 6.1,\n",
              " 3.9,\n",
              " 5.1,\n",
              " 5.1,\n",
              " 3.9,\n",
              " 15.4,\n",
              " 15.4,\n",
              " 4.8,\n",
              " 5.2,\n",
              " 5.2,\n",
              " 3.75,\n",
              " 13.8,\n",
              " 13.8,\n",
              " 5.7,\n",
              " 4.3,\n",
              " 4.1,\n",
              " 4.1,\n",
              " 4.4,\n",
              " 3.7,\n",
              " 6.7,\n",
              " 13.9,\n",
              " 5.1,\n",
              " 7.8]"
            ]
          },
          "metadata": {},
          "execution_count": 125
        }
      ]
    },
    {
      "cell_type": "code",
      "source": [
        "ind1 = data[\"residual sugar\"]>upp_limit\n",
        "a = data.loc[ind1].index\n",
        "a"
      ],
      "metadata": {
        "colab": {
          "base_uri": "https://localhost:8080/"
        },
        "id": "Bfzhdrh5xp5B",
        "outputId": "b8e23991-78aa-4b8a-d4cd-90311c4f56ca"
      },
      "execution_count": null,
      "outputs": [
        {
          "output_type": "execute_result",
          "data": {
            "text/plain": [
              "Int64Index([   9,   11,   14,   15,   18,   33,   35,   39,   40,   55,\n",
              "            ...\n",
              "            1478, 1501, 1514, 1515, 1540, 1552, 1558, 1574, 1577, 1589],\n",
              "           dtype='int64', length=153)"
            ]
          },
          "metadata": {},
          "execution_count": 126
        }
      ]
    },
    {
      "cell_type": "code",
      "source": [
        "b=slice(0,50)\n",
        "print(a[b])"
      ],
      "metadata": {
        "colab": {
          "base_uri": "https://localhost:8080/"
        },
        "id": "Ipm7bxFKyeOw",
        "outputId": "c8e92275-1503-4797-cf4c-b8bd50794088"
      },
      "execution_count": null,
      "outputs": [
        {
          "output_type": "stream",
          "name": "stdout",
          "text": [
            "Int64Index([  9,  11,  14,  15,  18,  33,  35,  39,  40,  55,  57,  64,  65,\n",
            "            154, 155, 156, 157, 163, 164, 192, 215, 269, 270, 271, 272, 274,\n",
            "            275, 277, 278, 279, 283, 324, 325, 327, 353, 364, 366, 374, 375,\n",
            "            378, 395, 396, 400, 408, 409, 413, 415, 442, 455, 480],\n",
            "           dtype='int64')\n"
          ]
        }
      ]
    },
    {
      "cell_type": "code",
      "source": [
        "data.drop([ 9,  11,  14,  15,  18,  33,  35,  39,  40,  55,  57,  64,  65,\n",
        "            154, 155, 156, 157, 163, 164, 192, 215, 269, 270, 271, 272, 274,\n",
        "            275, 277, 278, 279, 283, 324, 325, 327, 353, 364, 366, 374, 375,\n",
        "            378, 395, 396, 400, 408, 409, 413, 415, 442, 455, 480],inplace=True)"
      ],
      "metadata": {
        "id": "9E9ZkrPJyoG8"
      },
      "execution_count": null,
      "outputs": []
    },
    {
      "cell_type": "code",
      "source": [
        "b=slice(50,100)\n",
        "print(a[b])"
      ],
      "metadata": {
        "colab": {
          "base_uri": "https://localhost:8080/"
        },
        "id": "tt9Wrbe61q46",
        "outputId": "00b057f7-417f-4cfc-be63-9602ce5a8baa"
      },
      "execution_count": null,
      "outputs": [
        {
          "output_type": "stream",
          "name": "stdout",
          "text": [
            "Int64Index([ 484,  494,  501,  502,  510,  515,  516,  538,  539,  541,  554,\n",
            "             555,  556,  557,  558,  559,  564,  595,  606,  608,  624,  625,\n",
            "             645,  649,  652,  659,  719,  740,  800,  878,  884,  889,  903,\n",
            "             904,  910,  911,  913,  917,  923,  941,  944,  946,  974, 1032,\n",
            "            1038, 1043, 1056, 1057, 1059, 1071],\n",
            "           dtype='int64')\n"
          ]
        }
      ]
    },
    {
      "cell_type": "code",
      "source": [
        "data.drop([484,  494,  501,  502,  510,  515,  516,  538,  539,  541,  554,\n",
        "             555,  556,  557,  558,  559,  564,  595,  606,  608,  624,  625,\n",
        "             645,  649,  652,  659,  719,  740,  800,  878,  884,  889,  903,\n",
        "             904,  910,  911,  913,  917,  923,  941,  944,  946,  974, 1032,\n",
        "            1038, 1043, 1056, 1057, 1059, 1071],inplace=True)"
      ],
      "metadata": {
        "id": "ZF9HP2zT2AGp"
      },
      "execution_count": null,
      "outputs": []
    },
    {
      "cell_type": "code",
      "source": [
        "b=slice(100,154)\n",
        "print(a[b])"
      ],
      "metadata": {
        "colab": {
          "base_uri": "https://localhost:8080/"
        },
        "id": "CBh2u8hg2G2A",
        "outputId": "3e3d0fd3-1747-43a4-e447-69778cb58725"
      },
      "execution_count": null,
      "outputs": [
        {
          "output_type": "stream",
          "name": "stdout",
          "text": [
            "Int64Index([1074, 1077, 1078, 1079, 1081, 1086, 1094, 1096, 1114, 1133, 1138,\n",
            "            1147, 1176, 1186, 1190, 1203, 1226, 1235, 1239, 1244, 1257, 1276,\n",
            "            1288, 1289, 1295, 1296, 1307, 1331, 1358, 1373, 1388, 1394, 1406,\n",
            "            1412, 1423, 1434, 1435, 1437, 1441, 1445, 1471, 1474, 1476, 1478,\n",
            "            1501, 1514, 1515, 1540, 1552, 1558, 1574, 1577, 1589],\n",
            "           dtype='int64')\n"
          ]
        }
      ]
    },
    {
      "cell_type": "code",
      "source": [
        "data.drop([1074, 1077, 1078, 1079, 1081, 1086, 1094, 1096, 1114, 1133, 1138,\n",
        "            1147, 1176, 1186, 1190, 1203, 1226, 1235, 1239, 1244, 1257, 1276,\n",
        "            1288, 1289, 1295, 1296, 1307, 1331, 1358, 1373, 1388, 1394, 1406,\n",
        "            1412, 1423, 1434, 1435, 1437, 1441, 1445, 1471, 1474, 1476, 1478,\n",
        "            1501, 1514, 1515, 1540, 1552, 1558, 1574, 1577, 1589],inplace=True)"
      ],
      "metadata": {
        "id": "pawtnk6D2Nt8"
      },
      "execution_count": null,
      "outputs": []
    },
    {
      "cell_type": "code",
      "source": [
        "outlier = []\n",
        "for x in data[\"residual sugar\"]:\n",
        "  if((x>upp_limit)or(x<low_limit)):\n",
        "    outlier.append(x)\n",
        "  \n",
        "outlier"
      ],
      "metadata": {
        "colab": {
          "base_uri": "https://localhost:8080/"
        },
        "id": "JZ_gP2Ap2Toa",
        "outputId": "47c3dc9a-8c52-4028-9b67-eab60e30b56b"
      },
      "execution_count": null,
      "outputs": [
        {
          "output_type": "execute_result",
          "data": {
            "text/plain": [
              "[]"
            ]
          },
          "metadata": {},
          "execution_count": 133
        }
      ]
    },
    {
      "cell_type": "code",
      "source": [
        "plt.boxplot(data[\"residual sugar\"])\n",
        "plt.title(\"box plot of residual sugar\")"
      ],
      "metadata": {
        "colab": {
          "base_uri": "https://localhost:8080/",
          "height": 469
        },
        "id": "BrCecff_2YO_",
        "outputId": "13100e3d-ab23-49c3-aa41-fe09486a64d9"
      },
      "execution_count": null,
      "outputs": [
        {
          "output_type": "execute_result",
          "data": {
            "text/plain": [
              "Text(0.5, 1.0, 'box plot of residual sugar')"
            ]
          },
          "metadata": {},
          "execution_count": 134
        },
        {
          "output_type": "display_data",
          "data": {
            "text/plain": [
              "<Figure size 640x480 with 1 Axes>"
            ],
            "image/png": "[encoded data removed]"
          },
          "metadata": {}
        }
      ]
    },
    {
      "cell_type": "code",
      "source": [
        "\n",
        "plt.boxplot(data[\"chlorides\"])\n",
        "plt.title(\"box plot of chlorides\")"
      ],
      "metadata": {
        "colab": {
          "base_uri": "https://localhost:8080/",
          "height": 469
        },
        "id": "WmwRgxtT2mJI",
        "outputId": "705fbccd-cdfd-4c2c-9302-cf4bd7cf2fe6"
      },
      "execution_count": null,
      "outputs": [
        {
          "output_type": "execute_result",
          "data": {
            "text/plain": [
              "Text(0.5, 1.0, 'box plot of chlorides')"
            ]
          },
          "metadata": {},
          "execution_count": 135
        },
        {
          "output_type": "display_data",
          "data": {
            "text/plain": [
              "<Figure size 640x480 with 1 Axes>"
            ],
            "image/png": "[encoded data removed]"
          },
          "metadata": {}
        }
      ]
    },
    {
      "cell_type": "code",
      "source": [
        "q1 = np.percentile(data[\"chlorides\"],25, interpolation=\"midpoint\")\n",
        "q2 = np.percentile(data[\"chlorides\"],50, interpolation=\"midpoint\")\n",
        "q3 = np.percentile(data[\"chlorides\"],75, interpolation=\"midpoint\")\n",
        "\n",
        "print(q1)\n",
        "print(q2)\n",
        "print(q3)"
      ],
      "metadata": {
        "colab": {
          "base_uri": "https://localhost:8080/"
        },
        "id": "z6RcSaXn21T6",
        "outputId": "d08ae7ba-e87d-4ce6-86ea-6809adb53ce2"
      },
      "execution_count": null,
      "outputs": [
        {
          "output_type": "stream",
          "name": "stdout",
          "text": [
            "0.07\n",
            "0.079\n",
            "0.089\n"
          ]
        },
        {
          "output_type": "stream",
          "name": "stderr",
          "text": [
            "<ipython-input-136-0166010f3f16>:1: DeprecationWarning: the `interpolation=` argument to percentile was renamed to `method=`, which has additional options.\n",
            "Users of the modes 'nearest', 'lower', 'higher', or 'midpoint' are encouraged to review the method they. (Deprecated NumPy 1.22)\n",
            "  q1 = np.percentile(data[\"chlorides\"],25, interpolation=\"midpoint\")\n",
            "<ipython-input-136-0166010f3f16>:2: DeprecationWarning: the `interpolation=` argument to percentile was renamed to `method=`, which has additional options.\n",
            "Users of the modes 'nearest', 'lower', 'higher', or 'midpoint' are encouraged to review the method they. (Deprecated NumPy 1.22)\n",
            "  q2 = np.percentile(data[\"chlorides\"],50, interpolation=\"midpoint\")\n",
            "<ipython-input-136-0166010f3f16>:3: DeprecationWarning: the `interpolation=` argument to percentile was renamed to `method=`, which has additional options.\n",
            "Users of the modes 'nearest', 'lower', 'higher', or 'midpoint' are encouraged to review the method they. (Deprecated NumPy 1.22)\n",
            "  q3 = np.percentile(data[\"chlorides\"],75, interpolation=\"midpoint\")\n"
          ]
        }
      ]
    },
    {
      "cell_type": "code",
      "source": [
        "iqr = q3-q1\n",
        "\n",
        "low_limit = q1-1.5*iqr\n",
        "upp_limit = q3+1.5*iqr\n",
        "\n",
        "print(low_limit)\n",
        "print(upp_limit)"
      ],
      "metadata": {
        "colab": {
          "base_uri": "https://localhost:8080/"
        },
        "id": "sgwHVHE93CGs",
        "outputId": "70745ba5-fb12-44b1-a10e-551d3c2b9909"
      },
      "execution_count": null,
      "outputs": [
        {
          "output_type": "stream",
          "name": "stdout",
          "text": [
            "0.04150000000000002\n",
            "0.11749999999999998\n"
          ]
        }
      ]
    },
    {
      "cell_type": "code",
      "source": [
        "outlier = []\n",
        "for x in data[\"chlorides\"]:\n",
        "  if((x>upp_limit)or(x<low_limit)):\n",
        "    outlier.append(x)\n",
        "  \n",
        "outlier"
      ],
      "metadata": {
        "colab": {
          "base_uri": "https://localhost:8080/"
        },
        "id": "nSXYj_zi3LKv",
        "outputId": "06883b28-3585-4e09-e347-ec2f6aeaa341"
      },
      "execution_count": null,
      "outputs": [
        {
          "output_type": "execute_result",
          "data": {
            "text/plain": [
              "[0.368,\n",
              " 0.341,\n",
              " 0.332,\n",
              " 0.4639999999999999,\n",
              " 0.401,\n",
              " 0.467,\n",
              " 0.122,\n",
              " 0.119,\n",
              " 0.119,\n",
              " 0.146,\n",
              " 0.118,\n",
              " 0.236,\n",
              " 0.61,\n",
              " 0.36,\n",
              " 0.27,\n",
              " 0.039,\n",
              " 0.337,\n",
              " 0.263,\n",
              " 0.611,\n",
              " 0.358,\n",
              " 0.3429999999999999,\n",
              " 0.186,\n",
              " 0.213,\n",
              " 0.214,\n",
              " 0.121,\n",
              " 0.122,\n",
              " 0.122,\n",
              " 0.128,\n",
              " 0.118,\n",
              " 0.118,\n",
              " 0.159,\n",
              " 0.121,\n",
              " 0.127,\n",
              " 0.413,\n",
              " 0.152,\n",
              " 0.152,\n",
              " 0.125,\n",
              " 0.2,\n",
              " 0.171,\n",
              " 0.226,\n",
              " 0.226,\n",
              " 0.25,\n",
              " 0.148,\n",
              " 0.122,\n",
              " 0.143,\n",
              " 0.222,\n",
              " 0.039,\n",
              " 0.157,\n",
              " 0.422,\n",
              " 0.034,\n",
              " 0.387,\n",
              " 0.415,\n",
              " 0.157,\n",
              " 0.157,\n",
              " 0.243,\n",
              " 0.241,\n",
              " 0.19,\n",
              " 0.132,\n",
              " 0.126,\n",
              " 0.038,\n",
              " 0.0409999999999999,\n",
              " 0.165,\n",
              " 0.145,\n",
              " 0.147,\n",
              " 0.012,\n",
              " 0.012,\n",
              " 0.119,\n",
              " 0.1939999999999999,\n",
              " 0.161,\n",
              " 0.12,\n",
              " 0.12,\n",
              " 0.123,\n",
              " 0.123,\n",
              " 0.414,\n",
              " 0.216,\n",
              " 0.171,\n",
              " 0.178,\n",
              " 0.118,\n",
              " 0.118,\n",
              " 0.369,\n",
              " 0.0409999999999999,\n",
              " 0.166,\n",
              " 0.166,\n",
              " 0.136,\n",
              " 0.132,\n",
              " 0.132,\n",
              " 0.123,\n",
              " 0.123,\n",
              " 0.123,\n",
              " 0.4029999999999999,\n",
              " 0.0409999999999999,\n",
              " 0.414,\n",
              " 0.0409999999999999,\n",
              " 0.166,\n",
              " 0.415,\n",
              " 0.153,\n",
              " 0.415,\n",
              " 0.267,\n",
              " 0.1689999999999999,\n",
              " 0.039,\n",
              " 0.23,\n",
              " 0.038,\n",
              " 0.118]"
            ]
          },
          "metadata": {},
          "execution_count": 138
        }
      ]
    },
    {
      "cell_type": "code",
      "source": [
        "ind1 = data[\"chlorides\"]>upp_limit\n",
        "a = data.loc[ind1].index\n",
        "a"
      ],
      "metadata": {
        "colab": {
          "base_uri": "https://localhost:8080/"
        },
        "id": "Jigb39bv3QXD",
        "outputId": "0c268ef6-300d-47cb-e2f8-bef4dbc5f394"
      },
      "execution_count": null,
      "outputs": [
        {
          "output_type": "execute_result",
          "data": {
            "text/plain": [
              "Int64Index([  17,   19,   42,   81,   83,  106,  109,  118,  121,  125,  130,\n",
              "             147,  151,  169,  181,  226,  240,  258,  281,  291,  303,  307,\n",
              "             308,  326,  330,  331,  335,  342,  343,  368,  418,  447,  451,\n",
              "             482,  483,  512,  517,  549,  566,  567,  568,  614,  618,  638,\n",
              "             666,  689,  692,  730,  754,  773,  774,  776,  777,  780,  795,\n",
              "             796,  808,  832,  833,  842,  882,  916,  958, 1014, 1020, 1021,\n",
              "            1051, 1098, 1109, 1146, 1152, 1155, 1165, 1191, 1193, 1207, 1220,\n",
              "            1221, 1252, 1258, 1259, 1260, 1319, 1334, 1370, 1371, 1372, 1374,\n",
              "            1436, 1570, 1578],\n",
              "           dtype='int64')"
            ]
          },
          "metadata": {},
          "execution_count": 139
        }
      ]
    },
    {
      "cell_type": "code",
      "source": [
        "ind1 = data[\"chlorides\"]<low_limit\n",
        "a = data.loc[ind1].index\n",
        "a"
      ],
      "metadata": {
        "colab": {
          "base_uri": "https://localhost:8080/"
        },
        "id": "d_Q5fy8X3sU9",
        "outputId": "7ce110b3-fbce-445e-dfc5-d9dda189b08f"
      },
      "execution_count": null,
      "outputs": [
        {
          "output_type": "execute_result",
          "data": {
            "text/plain": [
              "Int64Index([210, 688, 695, 797, 806, 836, 837, 1178, 1316, 1321, 1490, 1571], dtype='int64')"
            ]
          },
          "metadata": {},
          "execution_count": 140
        }
      ]
    },
    {
      "cell_type": "code",
      "source": [
        "data.drop([ 17,   19,   42,   81,   83,  106,  109,  118,  121,  125,  130,\n",
        "             147,  151,  169,  181,  226,  240,  258,  281,  291,  303,  307,\n",
        "             308,  326,  330,  331,  335,  342,  343,  368,  418,  447,  451,\n",
        "             482,  483,  512,  517,  549,  566,  567,  568,  614,  618,  638,\n",
        "             666,  689,  692,  730,  754,  773,  774,  776,  777,  780,  795,\n",
        "             796,  808,  832,  833,  842,  882,  916,  958, 1014, 1020, 1021,\n",
        "            1051, 1098, 1109, 1146, 1152, 1155, 1165, 1191, 1193, 1207, 1220,\n",
        "            1221, 1252, 1258, 1259, 1260, 1319, 1334, 1370, 1371, 1372, 1374,\n",
        "            1436, 1570, 1578],inplace=True)"
      ],
      "metadata": {
        "id": "MPskCfZa4W4n"
      },
      "execution_count": null,
      "outputs": []
    },
    {
      "cell_type": "code",
      "source": [
        "data.drop([210, 688, 695, 797, 806, 836, 837, 1178, 1316, 1321, 1490, 1571],inplace=True)"
      ],
      "metadata": {
        "id": "4EBpf1aU4g5j"
      },
      "execution_count": null,
      "outputs": []
    },
    {
      "cell_type": "code",
      "source": [
        "outlier = []\n",
        "for x in data[\"chlorides\"]:\n",
        "  if((x>upp_limit)or(x<low_limit)):\n",
        "    outlier.append(x)\n",
        "  \n",
        "outlier"
      ],
      "metadata": {
        "colab": {
          "base_uri": "https://localhost:8080/"
        },
        "id": "Po0P_41g4naZ",
        "outputId": "f2ab1eea-2130-43b8-ef80-5501381c888e"
      },
      "execution_count": null,
      "outputs": [
        {
          "output_type": "execute_result",
          "data": {
            "text/plain": [
              "[]"
            ]
          },
          "metadata": {},
          "execution_count": 143
        }
      ]
    },
    {
      "cell_type": "code",
      "source": [
        "plt.boxplot(data[\"chlorides\"])\n",
        "plt.title(\"box plot of chlorides\")"
      ],
      "metadata": {
        "colab": {
          "base_uri": "https://localhost:8080/",
          "height": 469
        },
        "id": "fNSsHTmd4rPV",
        "outputId": "371a119f-4065-4840-d49c-d0033d44289b"
      },
      "execution_count": null,
      "outputs": [
        {
          "output_type": "execute_result",
          "data": {
            "text/plain": [
              "Text(0.5, 1.0, 'box plot of chlorides')"
            ]
          },
          "metadata": {},
          "execution_count": 144
        },
        {
          "output_type": "display_data",
          "data": {
            "text/plain": [
              "<Figure size 640x480 with 1 Axes>"
            ],
            "image/png": "[encoded data removed]"
          },
          "metadata": {}
        }
      ]
    },
    {
      "cell_type": "code",
      "source": [
        "data.columns"
      ],
      "metadata": {
        "colab": {
          "base_uri": "https://localhost:8080/"
        },
        "id": "GHgpu_nr4xnJ",
        "outputId": "ffc862be-9f0f-4176-da44-612c7c219dc5"
      },
      "execution_count": null,
      "outputs": [
        {
          "output_type": "execute_result",
          "data": {
            "text/plain": [
              "Index(['volatile acidity', 'citric acid', 'residual sugar', 'chlorides',\n",
              "       'total sulfur dioxide', 'pH', 'sulphates', 'alcohol', 'quality'],\n",
              "      dtype='object')"
            ]
          },
          "metadata": {},
          "execution_count": 145
        }
      ]
    },
    {
      "cell_type": "code",
      "source": [
        "plt.boxplot(data[\"total sulfur dioxide\"])\n",
        "plt.title(\"box plot of total sulfur dioxide\")"
      ],
      "metadata": {
        "colab": {
          "base_uri": "https://localhost:8080/",
          "height": 469
        },
        "id": "nQb4qLlB418b",
        "outputId": "33806471-fd15-41f5-833f-3c96d0a9a0dc"
      },
      "execution_count": null,
      "outputs": [
        {
          "output_type": "execute_result",
          "data": {
            "text/plain": [
              "Text(0.5, 1.0, 'box plot of total sulfur dioxide')"
            ]
          },
          "metadata": {},
          "execution_count": 146
        },
        {
          "output_type": "display_data",
          "data": {
            "text/plain": [
              "<Figure size 640x480 with 1 Axes>"
            ],
            "image/png": "[encoded data removed]"
          },
          "metadata": {}
        }
      ]
    },
    {
      "cell_type": "code",
      "source": [
        "q1 = np.percentile(data[\"total sulfur dioxide\"],25, interpolation=\"midpoint\")\n",
        "q2 = np.percentile(data[\"total sulfur dioxide\"],50, interpolation=\"midpoint\")\n",
        "q3 = np.percentile(data[\"total sulfur dioxide\"],75, interpolation=\"midpoint\")\n",
        "\n",
        "print(q1)\n",
        "print(q2)\n",
        "print(q3)"
      ],
      "metadata": {
        "colab": {
          "base_uri": "https://localhost:8080/"
        },
        "id": "Qf6iaexS49IL",
        "outputId": "3248cd5a-7389-410e-923f-515ccaf432eb"
      },
      "execution_count": null,
      "outputs": [
        {
          "output_type": "stream",
          "name": "stdout",
          "text": [
            "23.0\n",
            "37.0\n",
            "60.0\n"
          ]
        },
        {
          "output_type": "stream",
          "name": "stderr",
          "text": [
            "<ipython-input-147-91d469dd36f7>:1: DeprecationWarning: the `interpolation=` argument to percentile was renamed to `method=`, which has additional options.\n",
            "Users of the modes 'nearest', 'lower', 'higher', or 'midpoint' are encouraged to review the method they. (Deprecated NumPy 1.22)\n",
            "  q1 = np.percentile(data[\"total sulfur dioxide\"],25, interpolation=\"midpoint\")\n",
            "<ipython-input-147-91d469dd36f7>:2: DeprecationWarning: the `interpolation=` argument to percentile was renamed to `method=`, which has additional options.\n",
            "Users of the modes 'nearest', 'lower', 'higher', or 'midpoint' are encouraged to review the method they. (Deprecated NumPy 1.22)\n",
            "  q2 = np.percentile(data[\"total sulfur dioxide\"],50, interpolation=\"midpoint\")\n",
            "<ipython-input-147-91d469dd36f7>:3: DeprecationWarning: the `interpolation=` argument to percentile was renamed to `method=`, which has additional options.\n",
            "Users of the modes 'nearest', 'lower', 'higher', or 'midpoint' are encouraged to review the method they. (Deprecated NumPy 1.22)\n",
            "  q3 = np.percentile(data[\"total sulfur dioxide\"],75, interpolation=\"midpoint\")\n"
          ]
        }
      ]
    },
    {
      "cell_type": "code",
      "source": [
        "data[\"total sulfur dioxide\"].median()"
      ],
      "metadata": {
        "colab": {
          "base_uri": "https://localhost:8080/"
        },
        "id": "yn23R8eV5I_t",
        "outputId": "cd5ca8c2-590a-492d-c070-abfc81ce9680"
      },
      "execution_count": null,
      "outputs": [
        {
          "output_type": "execute_result",
          "data": {
            "text/plain": [
              "37.0"
            ]
          },
          "metadata": {},
          "execution_count": 148
        }
      ]
    },
    {
      "cell_type": "code",
      "source": [
        "iqr = q3-q1\n",
        "\n",
        "low_limit = q1-1.5*iqr\n",
        "upp_limit = q3+1.5*iqr\n",
        "\n",
        "print(low_limit)\n",
        "print(upp_limit)"
      ],
      "metadata": {
        "colab": {
          "base_uri": "https://localhost:8080/"
        },
        "id": "BZ1gCUBb5RFq",
        "outputId": "0fb0dccb-ea4a-405d-e8d1-e249d4262e75"
      },
      "execution_count": null,
      "outputs": [
        {
          "output_type": "stream",
          "name": "stdout",
          "text": [
            "-32.5\n",
            "115.5\n"
          ]
        }
      ]
    },
    {
      "cell_type": "code",
      "source": [
        "outlier = []\n",
        "for x in data[\"total sulfur dioxide\"]:\n",
        "  if((x>upp_limit)or(x<low_limit)):\n",
        "    outlier.append(x)\n",
        "  \n",
        "outlier"
      ],
      "metadata": {
        "colab": {
          "base_uri": "https://localhost:8080/"
        },
        "id": "eR_VmJ325WVH",
        "outputId": "565c9053-0341-432d-bba9-9db3a007b976"
      },
      "execution_count": null,
      "outputs": [
        {
          "output_type": "execute_result",
          "data": {
            "text/plain": [
              "[119.0,\n",
              " 119.0,\n",
              " 136.0,\n",
              " 125.0,\n",
              " 140.0,\n",
              " 136.0,\n",
              " 133.0,\n",
              " 141.0,\n",
              " 143.0,\n",
              " 144.0,\n",
              " 127.0,\n",
              " 120.0,\n",
              " 145.0,\n",
              " 120.0,\n",
              " 144.0,\n",
              " 119.0,\n",
              " 135.0,\n",
              " 165.0,\n",
              " 122.0,\n",
              " 124.0,\n",
              " 129.0,\n",
              " 133.0,\n",
              " 142.0,\n",
              " 116.0,\n",
              " 121.0,\n",
              " 149.0,\n",
              " 147.0,\n",
              " 145.0,\n",
              " 155.0,\n",
              " 122.0,\n",
              " 125.0,\n",
              " 127.0,\n",
              " 139.0,\n",
              " 143.0,\n",
              " 144.0,\n",
              " 119.0,\n",
              " 130.0,\n",
              " 122.0,\n",
              " 119.0,\n",
              " 135.0,\n",
              " 119.0,\n",
              " 119.0,\n",
              " 141.0,\n",
              " 141.0,\n",
              " 133.0,\n",
              " 147.0,\n",
              " 147.0,\n",
              " 131.0,\n",
              " 131.0,\n",
              " 131.0]"
            ]
          },
          "metadata": {},
          "execution_count": 150
        }
      ]
    },
    {
      "cell_type": "code",
      "source": [
        "ind1 = data[\"total sulfur dioxide\"]>upp_limit\n",
        "a=data.loc[ind1].index\n",
        "a"
      ],
      "metadata": {
        "colab": {
          "base_uri": "https://localhost:8080/"
        },
        "id": "SRv-Wj0M5lN8",
        "outputId": "111e00e6-aa20-4ce0-d0d3-34644967227e"
      },
      "execution_count": null,
      "outputs": [
        {
          "output_type": "execute_result",
          "data": {
            "text/plain": [
              "Int64Index([  53,   79,   86,   88,   90,   91,   92,  145,  188,  189,  190,\n",
              "             195,  201,  207,  219,  255,  313,  354,  414,  417,  463,  522,\n",
              "             523,  524,  561,  591,  636,  637,  651,  693,  694,  723,  741,\n",
              "             771,  772,  789,  791,  852,  977, 1131, 1184, 1188, 1400, 1401,\n",
              "            1419, 1493, 1496, 1559, 1560, 1561],\n",
              "           dtype='int64')"
            ]
          },
          "metadata": {},
          "execution_count": 151
        }
      ]
    },
    {
      "cell_type": "code",
      "source": [
        "data.drop([53,   79,   86,   88,   90,   91,   92,  145,  188,  189,  190,\n",
        "             195,  201,  207,  219,  255,  313,  354,  414,  417,  463,  522,\n",
        "             523,  524,  561,  591,  636,  637,  651,  693,  694,  723,  741,\n",
        "             771,  772,  789,  791,  852,  977, 1131, 1184, 1188, 1400, 1401,\n",
        "            1419, 1493, 1496, 1559, 1560, 1561],inplace=True)"
      ],
      "metadata": {
        "id": "--JcS7YR5vm0"
      },
      "execution_count": null,
      "outputs": []
    },
    {
      "cell_type": "code",
      "source": [
        "outlier = []\n",
        "for x in data[\"total sulfur dioxide\"]:\n",
        "  if((x>upp_limit)or(x<low_limit)):\n",
        "    outlier.append(x)\n",
        "  \n",
        "outlier"
      ],
      "metadata": {
        "colab": {
          "base_uri": "https://localhost:8080/"
        },
        "id": "emh4UgUg6Rxv",
        "outputId": "9f14a2d2-c183-4558-a0b9-c2663a780a8a"
      },
      "execution_count": null,
      "outputs": [
        {
          "output_type": "execute_result",
          "data": {
            "text/plain": [
              "[]"
            ]
          },
          "metadata": {},
          "execution_count": 153
        }
      ]
    },
    {
      "cell_type": "code",
      "source": [
        "plt.boxplot(data[\"total sulfur dioxide\"])\n",
        "plt.title(\"box plot of total sulfur dioxide\")"
      ],
      "metadata": {
        "colab": {
          "base_uri": "https://localhost:8080/",
          "height": 469
        },
        "id": "wpg7yQOV6UbF",
        "outputId": "3640317d-4d1b-4e85-e901-a29666f06233"
      },
      "execution_count": null,
      "outputs": [
        {
          "output_type": "execute_result",
          "data": {
            "text/plain": [
              "Text(0.5, 1.0, 'box plot of total sulfur dioxide')"
            ]
          },
          "metadata": {},
          "execution_count": 154
        },
        {
          "output_type": "display_data",
          "data": {
            "text/plain": [
              "<Figure size 640x480 with 1 Axes>"
            ],
            "image/png": "[encoded data removed]"
          },
          "metadata": {}
        }
      ]
    },
    {
      "cell_type": "code",
      "source": [
        "plt.boxplot(data[\"pH\"])\n",
        "plt.title(\"box plot of pH\")"
      ],
      "metadata": {
        "colab": {
          "base_uri": "https://localhost:8080/",
          "height": 469
        },
        "id": "vdRvJe2h6YKN",
        "outputId": "b2934a40-4905-42b9-deaf-556f9a9cb790"
      },
      "execution_count": null,
      "outputs": [
        {
          "output_type": "execute_result",
          "data": {
            "text/plain": [
              "Text(0.5, 1.0, 'box plot of pH')"
            ]
          },
          "metadata": {},
          "execution_count": 155
        },
        {
          "output_type": "display_data",
          "data": {
            "text/plain": [
              "<Figure size 640x480 with 1 Axes>"
            ],
            "image/png": "[encoded data removed]"
          },
          "metadata": {}
        }
      ]
    },
    {
      "cell_type": "code",
      "source": [
        "q1 = np.percentile(data[\"pH\"],25, interpolation=\"midpoint\")\n",
        "q2 = np.percentile(data[\"pH\"],50, interpolation=\"midpoint\")\n",
        "q3 = np.percentile(data[\"pH\"],75, interpolation=\"midpoint\")\n",
        "\n",
        "print(q1)\n",
        "print(q2)\n",
        "print(q3)"
      ],
      "metadata": {
        "colab": {
          "base_uri": "https://localhost:8080/"
        },
        "id": "2zdoPcP86ozI",
        "outputId": "8815bf82-0a63-473e-94a2-0b1d43dc36a2"
      },
      "execution_count": null,
      "outputs": [
        {
          "output_type": "stream",
          "name": "stdout",
          "text": [
            "3.22\n",
            "3.32\n",
            "3.41\n"
          ]
        },
        {
          "output_type": "stream",
          "name": "stderr",
          "text": [
            "<ipython-input-156-9b00d2052bf6>:1: DeprecationWarning: the `interpolation=` argument to percentile was renamed to `method=`, which has additional options.\n",
            "Users of the modes 'nearest', 'lower', 'higher', or 'midpoint' are encouraged to review the method they. (Deprecated NumPy 1.22)\n",
            "  q1 = np.percentile(data[\"pH\"],25, interpolation=\"midpoint\")\n",
            "<ipython-input-156-9b00d2052bf6>:2: DeprecationWarning: the `interpolation=` argument to percentile was renamed to `method=`, which has additional options.\n",
            "Users of the modes 'nearest', 'lower', 'higher', or 'midpoint' are encouraged to review the method they. (Deprecated NumPy 1.22)\n",
            "  q2 = np.percentile(data[\"pH\"],50, interpolation=\"midpoint\")\n",
            "<ipython-input-156-9b00d2052bf6>:3: DeprecationWarning: the `interpolation=` argument to percentile was renamed to `method=`, which has additional options.\n",
            "Users of the modes 'nearest', 'lower', 'higher', or 'midpoint' are encouraged to review the method they. (Deprecated NumPy 1.22)\n",
            "  q3 = np.percentile(data[\"pH\"],75, interpolation=\"midpoint\")\n"
          ]
        }
      ]
    },
    {
      "cell_type": "code",
      "source": [
        "iqr = q3-q1\n",
        "\n",
        "low_limit = q1-1.5*iqr\n",
        "upp_limit = q3+1.5*iqr\n",
        "\n",
        "print(low_limit)\n",
        "print(upp_limit)"
      ],
      "metadata": {
        "colab": {
          "base_uri": "https://localhost:8080/"
        },
        "id": "2uw0RhLk6zOx",
        "outputId": "617effe3-1aa2-46c1-9a32-fd1887a9f970"
      },
      "execution_count": null,
      "outputs": [
        {
          "output_type": "stream",
          "name": "stdout",
          "text": [
            "2.9350000000000005\n",
            "3.6950000000000003\n"
          ]
        }
      ]
    },
    {
      "cell_type": "code",
      "source": [
        "outlier = []\n",
        "for x in data[\"pH\"]:\n",
        "  if((x>upp_limit)or(x<low_limit)):\n",
        "    outlier.append(x)\n",
        "  \n",
        "outlier"
      ],
      "metadata": {
        "colab": {
          "base_uri": "https://localhost:8080/"
        },
        "id": "51O_G0tx63W6",
        "outputId": "8a6e183d-02de-449d-e474-b960b4967b3d"
      },
      "execution_count": null,
      "outputs": [
        {
          "output_type": "execute_result",
          "data": {
            "text/plain": [
              "[3.9,\n",
              " 3.85,\n",
              " 2.88,\n",
              " 2.86,\n",
              " 3.72,\n",
              " 2.89,\n",
              " 2.89,\n",
              " 2.92,\n",
              " 3.71,\n",
              " 3.71,\n",
              " 3.71,\n",
              " 2.89,\n",
              " 2.89,\n",
              " 3.78,\n",
              " 3.7,\n",
              " 3.78,\n",
              " 3.71,\n",
              " 2.88,\n",
              " 3.72,\n",
              " 3.72]"
            ]
          },
          "metadata": {},
          "execution_count": 158
        }
      ]
    },
    {
      "cell_type": "code",
      "source": [
        "ind1 = data[\"pH\"]>upp_limit\n",
        "a=data.loc[ind1].index\n",
        "a"
      ],
      "metadata": {
        "colab": {
          "base_uri": "https://localhost:8080/"
        },
        "id": "d3kielO4673w",
        "outputId": "76e01a0b-9a7b-4f96-e84e-e4226a2ec0ff"
      },
      "execution_count": null,
      "outputs": [
        {
          "output_type": "execute_result",
          "data": {
            "text/plain": [
              "Int64Index([45, 95, 588, 821, 996, 997, 1111, 1270, 1300, 1377, 1488, 1491], dtype='int64')"
            ]
          },
          "metadata": {},
          "execution_count": 159
        }
      ]
    },
    {
      "cell_type": "code",
      "source": [
        "data.drop([45, 95, 588, 821, 996, 997, 1111, 1270, 1300, 1377, 1488, 1491],inplace=True)"
      ],
      "metadata": {
        "id": "2DJJAC4r7RKm"
      },
      "execution_count": null,
      "outputs": []
    },
    {
      "cell_type": "code",
      "source": [
        "ind1 = data[\"pH\"]<low_limit\n",
        "a=data.loc[ind1].index\n",
        "a"
      ],
      "metadata": {
        "colab": {
          "base_uri": "https://localhost:8080/"
        },
        "id": "9gu2Z0s_7bYz",
        "outputId": "4b947382-1462-40a6-8903-4f7347eb9a31"
      },
      "execution_count": null,
      "outputs": [
        {
          "output_type": "execute_result",
          "data": {
            "text/plain": [
              "Int64Index([440, 544, 650, 656, 657, 1017, 1018, 1470], dtype='int64')"
            ]
          },
          "metadata": {},
          "execution_count": 161
        }
      ]
    },
    {
      "cell_type": "code",
      "source": [
        "data.drop([440, 544, 650, 656, 657, 1017, 1018, 1470],inplace=True)"
      ],
      "metadata": {
        "id": "VyXDtTjg7gl0"
      },
      "execution_count": null,
      "outputs": []
    },
    {
      "cell_type": "code",
      "source": [
        "outlier = []\n",
        "for x in data[\"pH\"]:\n",
        "  if((x>upp_limit)or(x<low_limit)):\n",
        "    outlier.append(x)\n",
        "  \n",
        "outlier"
      ],
      "metadata": {
        "colab": {
          "base_uri": "https://localhost:8080/"
        },
        "id": "mj80kR1T7l4c",
        "outputId": "df6a0aa6-8217-478f-c9da-5d831d970262"
      },
      "execution_count": null,
      "outputs": [
        {
          "output_type": "execute_result",
          "data": {
            "text/plain": [
              "[]"
            ]
          },
          "metadata": {},
          "execution_count": 163
        }
      ]
    },
    {
      "cell_type": "code",
      "source": [
        "plt.boxplot(data[\"pH\"])\n",
        "plt.title(\"box plot of pH\")"
      ],
      "metadata": {
        "colab": {
          "base_uri": "https://localhost:8080/",
          "height": 469
        },
        "id": "Bj-CkuE57pRI",
        "outputId": "6dbbf980-58a4-4691-bca1-5f8b76dcaa69"
      },
      "execution_count": null,
      "outputs": [
        {
          "output_type": "execute_result",
          "data": {
            "text/plain": [
              "Text(0.5, 1.0, 'box plot of pH')"
            ]
          },
          "metadata": {},
          "execution_count": 164
        },
        {
          "output_type": "display_data",
          "data": {
            "text/plain": [
              "<Figure size 640x480 with 1 Axes>"
            ],
            "image/png": "[encoded data removed]"
          },
          "metadata": {}
        }
      ]
    },
    {
      "cell_type": "code",
      "source": [
        "data.columns"
      ],
      "metadata": {
        "id": "651k8nW57t7Y",
        "colab": {
          "base_uri": "https://localhost:8080/"
        },
        "outputId": "30300ed6-6bed-4845-f3a7-ae74ae964a37"
      },
      "execution_count": null,
      "outputs": [
        {
          "output_type": "execute_result",
          "data": {
            "text/plain": [
              "Index(['volatile acidity', 'citric acid', 'residual sugar', 'chlorides',\n",
              "       'total sulfur dioxide', 'pH', 'sulphates', 'alcohol', 'quality'],\n",
              "      dtype='object')"
            ]
          },
          "metadata": {},
          "execution_count": 165
        }
      ]
    },
    {
      "cell_type": "code",
      "source": [
        "plt.boxplot(data[\"sulphates\"])\n",
        "plt.title(\"box plot of sulphates\")"
      ],
      "metadata": {
        "colab": {
          "base_uri": "https://localhost:8080/",
          "height": 469
        },
        "id": "8Nu0ICtTLMiP",
        "outputId": "a7bafcb1-2fa5-440e-bf0e-8c6ad039bbb3"
      },
      "execution_count": null,
      "outputs": [
        {
          "output_type": "execute_result",
          "data": {
            "text/plain": [
              "Text(0.5, 1.0, 'box plot of sulphates')"
            ]
          },
          "metadata": {},
          "execution_count": 166
        },
        {
          "output_type": "display_data",
          "data": {
            "text/plain": [
              "<Figure size 640x480 with 1 Axes>"
            ],
            "image/png": "[encoded data removed]"
          },
          "metadata": {}
        }
      ]
    },
    {
      "cell_type": "code",
      "source": [
        "q1 = np.percentile(data[\"sulphates\"],25, interpolation=\"midpoint\")\n",
        "q2 = np.percentile(data[\"sulphates\"],50, interpolation=\"midpoint\")\n",
        "q3 = np.percentile(data[\"sulphates\"],75, interpolation=\"midpoint\")\n",
        "\n",
        "print(q1)\n",
        "print(q2)\n",
        "print(q3)"
      ],
      "metadata": {
        "colab": {
          "base_uri": "https://localhost:8080/"
        },
        "id": "L-x65abtLP5z",
        "outputId": "f53e16a7-bcc0-4097-cb61-24368e7ab403"
      },
      "execution_count": null,
      "outputs": [
        {
          "output_type": "stream",
          "name": "stdout",
          "text": [
            "0.55\n",
            "0.62\n",
            "0.72\n"
          ]
        },
        {
          "output_type": "stream",
          "name": "stderr",
          "text": [
            "<ipython-input-167-002799064f67>:1: DeprecationWarning: the `interpolation=` argument to percentile was renamed to `method=`, which has additional options.\n",
            "Users of the modes 'nearest', 'lower', 'higher', or 'midpoint' are encouraged to review the method they. (Deprecated NumPy 1.22)\n",
            "  q1 = np.percentile(data[\"sulphates\"],25, interpolation=\"midpoint\")\n",
            "<ipython-input-167-002799064f67>:2: DeprecationWarning: the `interpolation=` argument to percentile was renamed to `method=`, which has additional options.\n",
            "Users of the modes 'nearest', 'lower', 'higher', or 'midpoint' are encouraged to review the method they. (Deprecated NumPy 1.22)\n",
            "  q2 = np.percentile(data[\"sulphates\"],50, interpolation=\"midpoint\")\n",
            "<ipython-input-167-002799064f67>:3: DeprecationWarning: the `interpolation=` argument to percentile was renamed to `method=`, which has additional options.\n",
            "Users of the modes 'nearest', 'lower', 'higher', or 'midpoint' are encouraged to review the method they. (Deprecated NumPy 1.22)\n",
            "  q3 = np.percentile(data[\"sulphates\"],75, interpolation=\"midpoint\")\n"
          ]
        }
      ]
    },
    {
      "cell_type": "code",
      "source": [
        "iqr = q3-q1\n",
        "\n",
        "low_limit = q1-1.5*iqr\n",
        "upp_limit = q3+1.5*iqr\n",
        "\n",
        "print(low_limit)\n",
        "print(upp_limit)"
      ],
      "metadata": {
        "colab": {
          "base_uri": "https://localhost:8080/"
        },
        "id": "qBII-O7RLbIy",
        "outputId": "4494f7d5-ea38-4719-fbf0-c81f7725e523"
      },
      "execution_count": null,
      "outputs": [
        {
          "output_type": "stream",
          "name": "stdout",
          "text": [
            "0.29500000000000015\n",
            "0.9749999999999999\n"
          ]
        }
      ]
    },
    {
      "cell_type": "code",
      "source": [
        "outlier = []\n",
        "\n",
        "for x in data[\"sulphates\"]:\n",
        "  if ((x>upp_limit)or(x<low_limit)):\n",
        "    outlier.append(x)\n",
        "outlier"
      ],
      "metadata": {
        "colab": {
          "base_uri": "https://localhost:8080/"
        },
        "id": "dfe0cMuELuG4",
        "outputId": "0c7f458b-0883-43c0-cf4d-6b975367e460"
      },
      "execution_count": null,
      "outputs": [
        {
          "output_type": "execute_result",
          "data": {
            "text/plain": [
              "[1.56,\n",
              " 1.2,\n",
              " 1.08,\n",
              " 1.0,\n",
              " 1.36,\n",
              " 1.18,\n",
              " 0.98,\n",
              " 1.13,\n",
              " 1.04,\n",
              " 1.11,\n",
              " 1.13,\n",
              " 1.06,\n",
              " 1.04,\n",
              " 1.05,\n",
              " 1.02,\n",
              " 1.02,\n",
              " 1.36,\n",
              " 1.16,\n",
              " 0.98,\n",
              " 1.18,\n",
              " 1.1,\n",
              " 1.01]"
            ]
          },
          "metadata": {},
          "execution_count": 169
        }
      ]
    },
    {
      "cell_type": "code",
      "source": [
        "ind1 = data[\"sulphates\"]>upp_limit\n",
        "data.loc[ind1].index"
      ],
      "metadata": {
        "colab": {
          "base_uri": "https://localhost:8080/"
        },
        "id": "MvlAdn-yMKUB",
        "outputId": "c83305c9-d784-4e8d-9837-97d57fe55f74"
      },
      "execution_count": null,
      "outputs": [
        {
          "output_type": "execute_result",
          "data": {
            "text/plain": [
              "Int64Index([  13,   43,  161,  338,  339,  340,  350,  369,  372,  376,  377,\n",
              "             477,  503,  504,  506,  586,  639, 1158, 1166, 1367, 1403, 1408],\n",
              "           dtype='int64')"
            ]
          },
          "metadata": {},
          "execution_count": 170
        }
      ]
    },
    {
      "cell_type": "code",
      "source": [
        "data.drop([13,   43,  161,  338,  339,  340,  350,  369,  372,  376,  377,\n",
        "             477,  503,  504,  506,  586,  639, 1158, 1166, 1367, 1403, 1408], inplace=True)"
      ],
      "metadata": {
        "id": "ecDZn-1-MhAD"
      },
      "execution_count": null,
      "outputs": []
    },
    {
      "cell_type": "code",
      "source": [
        "ind1 = data[\"sulphates\"]<low_limit\n",
        "data.loc[ind1].index"
      ],
      "metadata": {
        "colab": {
          "base_uri": "https://localhost:8080/"
        },
        "id": "LeU6za-HM137",
        "outputId": "acc3dda8-88cb-439e-9a22-eb3070f6cb24"
      },
      "execution_count": null,
      "outputs": [
        {
          "output_type": "execute_result",
          "data": {
            "text/plain": [
              "Int64Index([], dtype='int64')"
            ]
          },
          "metadata": {},
          "execution_count": 172
        }
      ]
    },
    {
      "cell_type": "code",
      "source": [
        "outlier = []\n",
        "\n",
        "for x in data[\"sulphates\"]:\n",
        "  if ((x>upp_limit)or(x<low_limit)):\n",
        "    outlier.append(x)\n",
        "outlier"
      ],
      "metadata": {
        "colab": {
          "base_uri": "https://localhost:8080/"
        },
        "id": "83OcuGKuND3k",
        "outputId": "0e3964d8-d70f-49a6-8a33-3fae8a75f879"
      },
      "execution_count": null,
      "outputs": [
        {
          "output_type": "execute_result",
          "data": {
            "text/plain": [
              "[]"
            ]
          },
          "metadata": {},
          "execution_count": 173
        }
      ]
    },
    {
      "cell_type": "code",
      "source": [
        "plt.boxplot(data[\"sulphates\"])\n",
        "plt.title(\"box plot of sulphates\")"
      ],
      "metadata": {
        "colab": {
          "base_uri": "https://localhost:8080/",
          "height": 469
        },
        "id": "bBfk-jmANINH",
        "outputId": "9a375678-5ec7-4c4c-e596-8886aa6cb513"
      },
      "execution_count": null,
      "outputs": [
        {
          "output_type": "execute_result",
          "data": {
            "text/plain": [
              "Text(0.5, 1.0, 'box plot of sulphates')"
            ]
          },
          "metadata": {},
          "execution_count": 174
        },
        {
          "output_type": "display_data",
          "data": {
            "text/plain": [
              "<Figure size 640x480 with 1 Axes>"
            ],
            "image/png": "[encoded data removed]"
          },
          "metadata": {}
        }
      ]
    },
    {
      "cell_type": "code",
      "source": [
        "data.shape"
      ],
      "metadata": {
        "colab": {
          "base_uri": "https://localhost:8080/"
        },
        "id": "GUSr31yMPv-U",
        "outputId": "8be03c24-969d-44ec-fba0-b735c72e0bbf"
      },
      "execution_count": null,
      "outputs": [
        {
          "output_type": "execute_result",
          "data": {
            "text/plain": [
              "(1213, 9)"
            ]
          },
          "metadata": {},
          "execution_count": 175
        }
      ]
    },
    {
      "cell_type": "code",
      "source": [
        "corrmatrix = data.corr()\n",
        "plt.subplots(figsize=(20,8))\n",
        "sns.heatmap(corrmatrix, vmin=-1, vmax=1, annot=True, linewidth=0.5, cmap=\"YlGnBu\")"
      ],
      "metadata": {
        "colab": {
          "base_uri": "https://localhost:8080/",
          "height": 392
        },
        "id": "iT18mBsbOvU0",
        "outputId": "21589947-9c75-4278-f4b8-e5777ab3ab9f"
      },
      "execution_count": null,
      "outputs": [
        {
          "output_type": "execute_result",
          "data": {
            "text/plain": [
              "<Axes: >"
            ]
          },
          "metadata": {},
          "execution_count": 189
        },
        {
          "output_type": "display_data",
          "data": {
            "text/plain": [
              "<Figure size 2000x800 with 2 Axes>"
            ],
            "image/png": "[encoded data removed]"
          },
          "metadata": {}
        }
      ]
    },
    {
      "cell_type": "code",
      "source": [
        "data.columns\n",
        "y = data[\"quality\"]\n",
        "x = data.drop(\"quality\", axis=1)"
      ],
      "metadata": {
        "id": "pND_ZveIRLoL"
      },
      "execution_count": null,
      "outputs": []
    },
    {
      "cell_type": "code",
      "source": [
        "from sklearn.model_selection import train_test_split\n",
        "x_train,x_test,y_train,y_test = train_test_split(x,y,random_state=42, test_size=0.2)"
      ],
      "metadata": {
        "id": "P6NIahUjSMsn"
      },
      "execution_count": null,
      "outputs": []
    },
    {
      "cell_type": "code",
      "source": [
        "from sklearn import linear_model\n",
        "lr = linear_model.LinearRegression()\n",
        "model = lr.fit(x_train,y_train)\n",
        "prediction = model.predict(x_test)"
      ],
      "metadata": {
        "id": "-WMziblzSlPE"
      },
      "execution_count": null,
      "outputs": []
    },
    {
      "cell_type": "code",
      "source": [
        "from sklearn.metrics import mean_squared_error\n",
        "print(\"MSE IS:\", mean_squared_error(y_test,prediction))"
      ],
      "metadata": {
        "colab": {
          "base_uri": "https://localhost:8080/"
        },
        "id": "o0uDAA0yTHqB",
        "outputId": "6cb8191d-8ff1-459c-c52f-0dbd1a613509"
      },
      "execution_count": null,
      "outputs": [
        {
          "output_type": "stream",
          "name": "stdout",
          "text": [
            "MSE IS: 0.350925212874037\n"
          ]
        }
      ]
    },
    {
      "cell_type": "code",
      "source": [
        "from sklearn.metrics import r2_score\n",
        "print(\"R squared value is :\", r2_score(y_test,prediction))"
      ],
      "metadata": {
        "colab": {
          "base_uri": "https://localhost:8080/"
        },
        "id": "M9IKZnbtTLnY",
        "outputId": "9ec0b13d-6c97-4ce8-b7ff-8ce6a7b2d310"
      },
      "execution_count": null,
      "outputs": [
        {
          "output_type": "stream",
          "name": "stdout",
          "text": [
            "R squared value is : 0.34886303120289675\n"
          ]
        }
      ]
    },
    {
      "cell_type": "code",
      "source": [
        "x.describe()"
      ],
      "metadata": {
        "colab": {
          "base_uri": "https://localhost:8080/",
          "height": 379
        },
        "id": "2SziVF5rTOqJ",
        "outputId": "7a7e8e63-5ee4-4724-ebaf-de726d9293e9"
      },
      "execution_count": null,
      "outputs": [
        {
          "output_type": "execute_result",
          "data": {
            "text/plain": [
              "       volatile acidity  citric acid  residual sugar    chlorides  \\\n",
              "count       1213.000000  1213.000000     1213.000000  1213.000000   \n",
              "mean           0.512049     0.255581        2.189613     0.077916   \n",
              "std            0.157790     0.186662        0.444636     0.013747   \n",
              "min            0.120000     0.000000        1.200000     0.042000   \n",
              "25%            0.390000     0.090000        1.900000     0.069000   \n",
              "50%            0.510000     0.240000        2.100000     0.078000   \n",
              "75%            0.620000     0.400000        2.500000     0.086000   \n",
              "max            0.920000     0.750000        3.600000     0.116000   \n",
              "\n",
              "       total sulfur dioxide           pH    sulphates      alcohol  \n",
              "count           1213.000000  1213.000000  1213.000000  1213.000000  \n",
              "mean              41.650453     3.322745     0.637692    10.405771  \n",
              "std               25.150829     0.138489     0.117961     1.018655  \n",
              "min                6.000000     2.940000     0.330000     8.700000  \n",
              "25%               22.000000     3.220000     0.550000     9.500000  \n",
              "50%               36.000000     3.330000     0.620000    10.200000  \n",
              "75%               55.000000     3.410000     0.710000    11.000000  \n",
              "max              115.000000     3.690000     0.970000    14.000000  "
            ],
            "text/html": [
              "\n",
              "  <div id=\"df-6f502209-cdbb-4551-ae09-7658a888e7eb\">\n",
              "    <div class=\"colab-df-container\">\n",
              "      <div>\n",
              "<style scoped>\n",
              "    .dataframe tbody tr th:only-of-type {\n",
              "        vertical-align: middle;\n",
              "    }\n",
              "\n",
              "    .dataframe tbody tr th {\n",
              "        vertical-align: top;\n",
              "    }\n",
              "\n",
              "    .dataframe thead th {\n",
              "        text-align: right;\n",
              "    }\n",
              "</style>\n",
              "<table border=\"1\" class=\"dataframe\">\n",
              "  <thead>\n",
              "    <tr style=\"text-align: right;\">\n",
              "      <th></th>\n",
              "      <th>volatile acidity</th>\n",
              "      <th>citric acid</th>\n",
              "      <th>residual sugar</th>\n",
              "      <th>chlorides</th>\n",
              "      <th>total sulfur dioxide</th>\n",
              "      <th>pH</th>\n",
              "      <th>sulphates</th>\n",
              "      <th>alcohol</th>\n",
              "    </tr>\n",
              "  </thead>\n",
              "  <tbody>\n",
              "    <tr>\n",
              "      <th>count</th>\n",
              "      <td>1213.000000</td>\n",
              "      <td>1213.000000</td>\n",
              "      <td>1213.000000</td>\n",
              "      <td>1213.000000</td>\n",
              "      <td>1213.000000</td>\n",
              "      <td>1213.000000</td>\n",
              "      <td>1213.000000</td>\n",
              "      <td>1213.000000</td>\n",
              "    </tr>\n",
              "    <tr>\n",
              "      <th>mean</th>\n",
              "      <td>0.512049</td>\n",
              "      <td>0.255581</td>\n",
              "      <td>2.189613</td>\n",
              "      <td>0.077916</td>\n",
              "      <td>41.650453</td>\n",
              "      <td>3.322745</td>\n",
              "      <td>0.637692</td>\n",
              "      <td>10.405771</td>\n",
              "    </tr>\n",
              "    <tr>\n",
              "      <th>std</th>\n",
              "      <td>0.157790</td>\n",
              "      <td>0.186662</td>\n",
              "      <td>0.444636</td>\n",
              "      <td>0.013747</td>\n",
              "      <td>25.150829</td>\n",
              "      <td>0.138489</td>\n",
              "      <td>0.117961</td>\n",
              "      <td>1.018655</td>\n",
              "    </tr>\n",
              "    <tr>\n",
              "      <th>min</th>\n",
              "      <td>0.120000</td>\n",
              "      <td>0.000000</td>\n",
              "      <td>1.200000</td>\n",
              "      <td>0.042000</td>\n",
              "      <td>6.000000</td>\n",
              "      <td>2.940000</td>\n",
              "      <td>0.330000</td>\n",
              "      <td>8.700000</td>\n",
              "    </tr>\n",
              "    <tr>\n",
              "      <th>25%</th>\n",
              "      <td>0.390000</td>\n",
              "      <td>0.090000</td>\n",
              "      <td>1.900000</td>\n",
              "      <td>0.069000</td>\n",
              "      <td>22.000000</td>\n",
              "      <td>3.220000</td>\n",
              "      <td>0.550000</td>\n",
              "      <td>9.500000</td>\n",
              "    </tr>\n",
              "    <tr>\n",
              "      <th>50%</th>\n",
              "      <td>0.510000</td>\n",
              "      <td>0.240000</td>\n",
              "      <td>2.100000</td>\n",
              "      <td>0.078000</td>\n",
              "      <td>36.000000</td>\n",
              "      <td>3.330000</td>\n",
              "      <td>0.620000</td>\n",
              "      <td>10.200000</td>\n",
              "    </tr>\n",
              "    <tr>\n",
              "      <th>75%</th>\n",
              "      <td>0.620000</td>\n",
              "      <td>0.400000</td>\n",
              "      <td>2.500000</td>\n",
              "      <td>0.086000</td>\n",
              "      <td>55.000000</td>\n",
              "      <td>3.410000</td>\n",
              "      <td>0.710000</td>\n",
              "      <td>11.000000</td>\n",
              "    </tr>\n",
              "    <tr>\n",
              "      <th>max</th>\n",
              "      <td>0.920000</td>\n",
              "      <td>0.750000</td>\n",
              "      <td>3.600000</td>\n",
              "      <td>0.116000</td>\n",
              "      <td>115.000000</td>\n",
              "      <td>3.690000</td>\n",
              "      <td>0.970000</td>\n",
              "      <td>14.000000</td>\n",
              "    </tr>\n",
              "  </tbody>\n",
              "</table>\n",
              "</div>\n",
              "      <button class=\"colab-df-convert\" onclick=\"convertToInteractive('df-6f502209-cdbb-4551-ae09-7658a888e7eb')\"\n",
              "              title=\"Convert this dataframe to an interactive table.\"\n",
              "              style=\"display:none;\">\n",
              "        \n",
              "  <svg xmlns=\"http://www.w3.org/2000/svg\" height=\"24px\"viewBox=\"0 0 24 24\"\n",
              "       width=\"24px\">\n",
              "    <path d=\"M0 0h24v24H0V0z\" fill=\"none\"/>\n",
              "    <path d=\"M18.56 5.44l.94 2.06.94-2.06 2.06-.94-2.06-.94-.94-2.06-.94 2.06-2.06.94zm-11 1L8.5 8.5l.94-2.06 2.06-.94-2.06-.94L8.5 2.5l-.94 2.06-2.06.94zm10 10l.94 2.06.94-2.06 2.06-.94-2.06-.94-.94-2.06-.94 2.06-2.06.94z\"/><path d=\"M17.41 7.96l-1.37-1.37c-.4-.4-.92-.59-1.43-.59-.52 0-1.04.2-1.43.59L10.3 9.45l-7.72 7.72c-.78.78-.78 2.05 0 2.83L4 21.41c.39.39.9.59 1.41.59.51 0 1.02-.2 1.41-.59l7.78-7.78 2.81-2.81c.8-.78.8-2.07 0-2.86zM5.41 20L4 18.59l7.72-7.72 1.47 1.35L5.41 20z\"/>\n",
              "  </svg>\n",
              "      </button>\n",
              "      \n",
              "  <style>\n",
              "    .colab-df-container {\n",
              "      display:flex;\n",
              "      flex-wrap:wrap;\n",
              "      gap: 12px;\n",
              "    }\n",
              "\n",
              "    .colab-df-convert {\n",
              "      background-color: #E8F0FE;\n",
              "      border: none;\n",
              "      border-radius: 50%;\n",
              "      cursor: pointer;\n",
              "      display: none;\n",
              "      fill: #1967D2;\n",
              "      height: 32px;\n",
              "      padding: 0 0 0 0;\n",
              "      width: 32px;\n",
              "    }\n",
              "\n",
              "    .colab-df-convert:hover {\n",
              "      background-color: #E2EBFA;\n",
              "      box-shadow: 0px 1px 2px rgba(60, 64, 67, 0.3), 0px 1px 3px 1px rgba(60, 64, 67, 0.15);\n",
              "      fill: #174EA6;\n",
              "    }\n",
              "\n",
              "    [theme=dark] .colab-df-convert {\n",
              "      background-color: #3B4455;\n",
              "      fill: #D2E3FC;\n",
              "    }\n",
              "\n",
              "    [theme=dark] .colab-df-convert:hover {\n",
              "      background-color: #434B5C;\n",
              "      box-shadow: 0px 1px 3px 1px rgba(0, 0, 0, 0.15);\n",
              "      filter: drop-shadow(0px 1px 2px rgba(0, 0, 0, 0.3));\n",
              "      fill: #FFFFFF;\n",
              "    }\n",
              "  </style>\n",
              "\n",
              "      <script>\n",
              "        const buttonEl =\n",
              "          document.querySelector('#df-6f502209-cdbb-4551-ae09-7658a888e7eb button.colab-df-convert');\n",
              "        buttonEl.style.display =\n",
              "          google.colab.kernel.accessAllowed ? 'block' : 'none';\n",
              "\n",
              "        async function convertToInteractive(key) {\n",
              "          const element = document.querySelector('#df-6f502209-cdbb-4551-ae09-7658a888e7eb');\n",
              "          const dataTable =\n",
              "            await google.colab.kernel.invokeFunction('convertToInteractive',\n",
              "                                                     [key], {});\n",
              "          if (!dataTable) return;\n",
              "\n",
              "          const docLinkHtml = 'Like what you see? Visit the ' +\n",
              "            '<a target=\"_blank\" href=https://colab.research.google.com/notebooks/data_table.ipynb>data table notebook</a>'\n",
              "            + ' to learn more about interactive tables.';\n",
              "          element.innerHTML = '';\n",
              "          dataTable['output_type'] = 'display_data';\n",
              "          await google.colab.output.renderOutput(dataTable, element);\n",
              "          const docLink = document.createElement('div');\n",
              "          docLink.innerHTML = docLinkHtml;\n",
              "          element.appendChild(docLink);\n",
              "        }\n",
              "      </script>\n",
              "    </div>\n",
              "  </div>\n",
              "  "
            ]
          },
          "metadata": {},
          "execution_count": 182
        }
      ]
    },
    {
      "cell_type": "code",
      "source": [
        "type(x)"
      ],
      "metadata": {
        "colab": {
          "base_uri": "https://localhost:8080/"
        },
        "id": "igiWJVjeTTl3",
        "outputId": "523fa5a6-d99f-4865-d9d2-b3aa4bcbf00d"
      },
      "execution_count": null,
      "outputs": [
        {
          "output_type": "execute_result",
          "data": {
            "text/plain": [
              "pandas.core.frame.DataFrame"
            ]
          },
          "metadata": {},
          "execution_count": 183
        }
      ]
    },
    {
      "cell_type": "code",
      "source": [
        "from sklearn import preprocessing\n",
        "standard = preprocessing.StandardScaler()\n",
        "x = standard.fit_transform(x)"
      ],
      "metadata": {
        "id": "LH3rZIbNTcOM"
      },
      "execution_count": null,
      "outputs": []
    },
    {
      "cell_type": "code",
      "source": [
        "x.describe()"
      ],
      "metadata": {
        "colab": {
          "base_uri": "https://localhost:8080/",
          "height": 165
        },
        "id": "sjEi5J3AgjEk",
        "outputId": "b5559e31-5ed7-4f8d-cb4a-b2e08ef9b6c2"
      },
      "execution_count": null,
      "outputs": [
        {
          "output_type": "error",
          "ename": "AttributeError",
          "evalue": "ignored",
          "traceback": [
            "\u001b[0;31m---------------------------------------------------------------------------\u001b[0m",
            "\u001b[0;31mAttributeError\u001b[0m                            Traceback (most recent call last)",
            "\u001b[0;32m<ipython-input-185-fbc4918424e4>\u001b[0m in \u001b[0;36m<cell line: 1>\u001b[0;34m()\u001b[0m\n\u001b[0;32m----> 1\u001b[0;31m \u001b[0mx\u001b[0m\u001b[0;34m.\u001b[0m\u001b[0mdescribe\u001b[0m\u001b[0;34m(\u001b[0m\u001b[0;34m)\u001b[0m\u001b[0;34m\u001b[0m\u001b[0;34m\u001b[0m\u001b[0m\n\u001b[0m",
            "\u001b[0;31mAttributeError\u001b[0m: 'numpy.ndarray' object has no attribute 'describe'"
          ]
        }
      ]
    },
    {
      "cell_type": "code",
      "source": [
        "x= pd.DataFrame(x)\n",
        "x.describe()"
      ],
      "metadata": {
        "colab": {
          "base_uri": "https://localhost:8080/",
          "height": 364
        },
        "id": "DqjZ-E_5gnhZ",
        "outputId": "b1366db3-c716-4255-85db-810343b4c24b"
      },
      "execution_count": null,
      "outputs": [
        {
          "output_type": "execute_result",
          "data": {
            "text/plain": [
              "                  0             1             2            3             4  \\\n",
              "count  1.213000e+03  1.213000e+03  1.213000e+03  1213.000000  1.213000e+03   \n",
              "mean  -2.460247e-16 -1.757319e-16  2.577402e-16     0.000000 -8.200823e-17   \n",
              "std    1.000412e+00  1.000412e+00  1.000412e+00     1.000412  1.000412e+00   \n",
              "min   -2.485654e+00 -1.369785e+00 -2.226586e+00    -2.613773 -1.418051e+00   \n",
              "25%   -7.738089e-01 -8.874306e-01 -6.516157e-01    -0.648854 -7.816267e-01   \n",
              "50%   -1.298872e-02 -8.350729e-02 -2.016243e-01     0.006120 -2.247554e-01   \n",
              "75%    6.844297e-01  7.740109e-01  6.983584e-01     0.588318  5.309985e-01   \n",
              "max    2.586480e+00  2.649832e+00  3.173311e+00     2.771562  2.917590e+00   \n",
              "\n",
              "                  5             6             7  \n",
              "count  1.213000e+03  1.213000e+03  1.213000e+03  \n",
              "mean   3.163175e-16  2.401670e-16 -9.840988e-16  \n",
              "std    1.000412e+00  1.000412e+00  1.000412e+00  \n",
              "min   -2.764853e+00 -2.609494e+00 -1.675224e+00  \n",
              "25%   -7.422053e-01 -7.437020e-01 -8.895501e-01  \n",
              "50%    5.240638e-02 -1.500409e-01 -2.020858e-01  \n",
              "75%    6.303058e-01  6.132378e-01  5.835876e-01  \n",
              "max    2.652954e+00  2.818265e+00  3.529863e+00  "
            ],
            "text/html": [
              "\n",
              "  <div id=\"df-18dccecf-9657-4848-bfb1-c0c29c0ab5cc\">\n",
              "    <div class=\"colab-df-container\">\n",
              "      <div>\n",
              "<style scoped>\n",
              "    .dataframe tbody tr th:only-of-type {\n",
              "        vertical-align: middle;\n",
              "    }\n",
              "\n",
              "    .dataframe tbody tr th {\n",
              "        vertical-align: top;\n",
              "    }\n",
              "\n",
              "    .dataframe thead th {\n",
              "        text-align: right;\n",
              "    }\n",
              "</style>\n",
              "<table border=\"1\" class=\"dataframe\">\n",
              "  <thead>\n",
              "    <tr style=\"text-align: right;\">\n",
              "      <th></th>\n",
              "      <th>0</th>\n",
              "      <th>1</th>\n",
              "      <th>2</th>\n",
              "      <th>3</th>\n",
              "      <th>4</th>\n",
              "      <th>5</th>\n",
              "      <th>6</th>\n",
              "      <th>7</th>\n",
              "    </tr>\n",
              "  </thead>\n",
              "  <tbody>\n",
              "    <tr>\n",
              "      <th>count</th>\n",
              "      <td>1.213000e+03</td>\n",
              "      <td>1.213000e+03</td>\n",
              "      <td>1.213000e+03</td>\n",
              "      <td>1213.000000</td>\n",
              "      <td>1.213000e+03</td>\n",
              "      <td>1.213000e+03</td>\n",
              "      <td>1.213000e+03</td>\n",
              "      <td>1.213000e+03</td>\n",
              "    </tr>\n",
              "    <tr>\n",
              "      <th>mean</th>\n",
              "      <td>-2.460247e-16</td>\n",
              "      <td>-1.757319e-16</td>\n",
              "      <td>2.577402e-16</td>\n",
              "      <td>0.000000</td>\n",
              "      <td>-8.200823e-17</td>\n",
              "      <td>3.163175e-16</td>\n",
              "      <td>2.401670e-16</td>\n",
              "      <td>-9.840988e-16</td>\n",
              "    </tr>\n",
              "    <tr>\n",
              "      <th>std</th>\n",
              "      <td>1.000412e+00</td>\n",
              "      <td>1.000412e+00</td>\n",
              "      <td>1.000412e+00</td>\n",
              "      <td>1.000412</td>\n",
              "      <td>1.000412e+00</td>\n",
              "      <td>1.000412e+00</td>\n",
              "      <td>1.000412e+00</td>\n",
              "      <td>1.000412e+00</td>\n",
              "    </tr>\n",
              "    <tr>\n",
              "      <th>min</th>\n",
              "      <td>-2.485654e+00</td>\n",
              "      <td>-1.369785e+00</td>\n",
              "      <td>-2.226586e+00</td>\n",
              "      <td>-2.613773</td>\n",
              "      <td>-1.418051e+00</td>\n",
              "      <td>-2.764853e+00</td>\n",
              "      <td>-2.609494e+00</td>\n",
              "      <td>-1.675224e+00</td>\n",
              "    </tr>\n",
              "    <tr>\n",
              "      <th>25%</th>\n",
              "      <td>-7.738089e-01</td>\n",
              "      <td>-8.874306e-01</td>\n",
              "      <td>-6.516157e-01</td>\n",
              "      <td>-0.648854</td>\n",
              "      <td>-7.816267e-01</td>\n",
              "      <td>-7.422053e-01</td>\n",
              "      <td>-7.437020e-01</td>\n",
              "      <td>-8.895501e-01</td>\n",
              "    </tr>\n",
              "    <tr>\n",
              "      <th>50%</th>\n",
              "      <td>-1.298872e-02</td>\n",
              "      <td>-8.350729e-02</td>\n",
              "      <td>-2.016243e-01</td>\n",
              "      <td>0.006120</td>\n",
              "      <td>-2.247554e-01</td>\n",
              "      <td>5.240638e-02</td>\n",
              "      <td>-1.500409e-01</td>\n",
              "      <td>-2.020858e-01</td>\n",
              "    </tr>\n",
              "    <tr>\n",
              "      <th>75%</th>\n",
              "      <td>6.844297e-01</td>\n",
              "      <td>7.740109e-01</td>\n",
              "      <td>6.983584e-01</td>\n",
              "      <td>0.588318</td>\n",
              "      <td>5.309985e-01</td>\n",
              "      <td>6.303058e-01</td>\n",
              "      <td>6.132378e-01</td>\n",
              "      <td>5.835876e-01</td>\n",
              "    </tr>\n",
              "    <tr>\n",
              "      <th>max</th>\n",
              "      <td>2.586480e+00</td>\n",
              "      <td>2.649832e+00</td>\n",
              "      <td>3.173311e+00</td>\n",
              "      <td>2.771562</td>\n",
              "      <td>2.917590e+00</td>\n",
              "      <td>2.652954e+00</td>\n",
              "      <td>2.818265e+00</td>\n",
              "      <td>3.529863e+00</td>\n",
              "    </tr>\n",
              "  </tbody>\n",
              "</table>\n",
              "</div>\n",
              "      <button class=\"colab-df-convert\" onclick=\"convertToInteractive('df-18dccecf-9657-4848-bfb1-c0c29c0ab5cc')\"\n",
              "              title=\"Convert this dataframe to an interactive table.\"\n",
              "              style=\"display:none;\">\n",
              "        \n",
              "  <svg xmlns=\"http://www.w3.org/2000/svg\" height=\"24px\"viewBox=\"0 0 24 24\"\n",
              "       width=\"24px\">\n",
              "    <path d=\"M0 0h24v24H0V0z\" fill=\"none\"/>\n",
              "    <path d=\"M18.56 5.44l.94 2.06.94-2.06 2.06-.94-2.06-.94-.94-2.06-.94 2.06-2.06.94zm-11 1L8.5 8.5l.94-2.06 2.06-.94-2.06-.94L8.5 2.5l-.94 2.06-2.06.94zm10 10l.94 2.06.94-2.06 2.06-.94-2.06-.94-.94-2.06-.94 2.06-2.06.94z\"/><path d=\"M17.41 7.96l-1.37-1.37c-.4-.4-.92-.59-1.43-.59-.52 0-1.04.2-1.43.59L10.3 9.45l-7.72 7.72c-.78.78-.78 2.05 0 2.83L4 21.41c.39.39.9.59 1.41.59.51 0 1.02-.2 1.41-.59l7.78-7.78 2.81-2.81c.8-.78.8-2.07 0-2.86zM5.41 20L4 18.59l7.72-7.72 1.47 1.35L5.41 20z\"/>\n",
              "  </svg>\n",
              "      </button>\n",
              "      \n",
              "  <style>\n",
              "    .colab-df-container {\n",
              "      display:flex;\n",
              "      flex-wrap:wrap;\n",
              "      gap: 12px;\n",
              "    }\n",
              "\n",
              "    .colab-df-convert {\n",
              "      background-color: #E8F0FE;\n",
              "      border: none;\n",
              "      border-radius: 50%;\n",
              "      cursor: pointer;\n",
              "      display: none;\n",
              "      fill: #1967D2;\n",
              "      height: 32px;\n",
              "      padding: 0 0 0 0;\n",
              "      width: 32px;\n",
              "    }\n",
              "\n",
              "    .colab-df-convert:hover {\n",
              "      background-color: #E2EBFA;\n",
              "      box-shadow: 0px 1px 2px rgba(60, 64, 67, 0.3), 0px 1px 3px 1px rgba(60, 64, 67, 0.15);\n",
              "      fill: #174EA6;\n",
              "    }\n",
              "\n",
              "    [theme=dark] .colab-df-convert {\n",
              "      background-color: #3B4455;\n",
              "      fill: #D2E3FC;\n",
              "    }\n",
              "\n",
              "    [theme=dark] .colab-df-convert:hover {\n",
              "      background-color: #434B5C;\n",
              "      box-shadow: 0px 1px 3px 1px rgba(0, 0, 0, 0.15);\n",
              "      filter: drop-shadow(0px 1px 2px rgba(0, 0, 0, 0.3));\n",
              "      fill: #FFFFFF;\n",
              "    }\n",
              "  </style>\n",
              "\n",
              "      <script>\n",
              "        const buttonEl =\n",
              "          document.querySelector('#df-18dccecf-9657-4848-bfb1-c0c29c0ab5cc button.colab-df-convert');\n",
              "        buttonEl.style.display =\n",
              "          google.colab.kernel.accessAllowed ? 'block' : 'none';\n",
              "\n",
              "        async function convertToInteractive(key) {\n",
              "          const element = document.querySelector('#df-18dccecf-9657-4848-bfb1-c0c29c0ab5cc');\n",
              "          const dataTable =\n",
              "            await google.colab.kernel.invokeFunction('convertToInteractive',\n",
              "                                                     [key], {});\n",
              "          if (!dataTable) return;\n",
              "\n",
              "          const docLinkHtml = 'Like what you see? Visit the ' +\n",
              "            '<a target=\"_blank\" href=https://colab.research.google.com/notebooks/data_table.ipynb>data table notebook</a>'\n",
              "            + ' to learn more about interactive tables.';\n",
              "          element.innerHTML = '';\n",
              "          dataTable['output_type'] = 'display_data';\n",
              "          await google.colab.output.renderOutput(dataTable, element);\n",
              "          const docLink = document.createElement('div');\n",
              "          docLink.innerHTML = docLinkHtml;\n",
              "          element.appendChild(docLink);\n",
              "        }\n",
              "      </script>\n",
              "    </div>\n",
              "  </div>\n",
              "  "
            ]
          },
          "metadata": {},
          "execution_count": 190
        }
      ]
    },
    {
      "cell_type": "code",
      "source": [
        "x_train,x_test,y_train,y_test = train_test_split(x,y,random_state=42,test_size=0.2)\n",
        "lr = linear_model.LinearRegression()\n",
        "model = lr.fit(x_train,y_train)\n",
        "prediction = model.predict(x_test)\n",
        "\n",
        "print(\"MSE IS:\", mean_squared_error(y_test,prediction))\n",
        "print(\"R squared value is:\", r2_score(y_test,prediction))\n",
        "\n",
        "# standard scalar not done any effet on the dataset"
      ],
      "metadata": {
        "colab": {
          "base_uri": "https://localhost:8080/"
        },
        "id": "TdVb3tXsg9V1",
        "outputId": "3aef9907-50aa-424f-cb42-3b1a90e916bb"
      },
      "execution_count": null,
      "outputs": [
        {
          "output_type": "stream",
          "name": "stdout",
          "text": [
            "MSE IS: 0.350925212874037\n",
            "R squared value is: 0.34886303120289675\n"
          ]
        }
      ]
    },
    {
      "cell_type": "code",
      "source": [
        "x = data.drop(\"quality\",axis=1)\n",
        "x.describe()"
      ],
      "metadata": {
        "colab": {
          "base_uri": "https://localhost:8080/",
          "height": 379
        },
        "id": "jgvhkfjIiiXl",
        "outputId": "e0b01f4a-eb11-4a0e-dbe4-8ce2f373ad12"
      },
      "execution_count": null,
      "outputs": [
        {
          "output_type": "execute_result",
          "data": {
            "text/plain": [
              "       volatile acidity  citric acid  residual sugar    chlorides  \\\n",
              "count       1213.000000  1213.000000     1213.000000  1213.000000   \n",
              "mean           0.512049     0.255581        2.189613     0.077916   \n",
              "std            0.157790     0.186662        0.444636     0.013747   \n",
              "min            0.120000     0.000000        1.200000     0.042000   \n",
              "25%            0.390000     0.090000        1.900000     0.069000   \n",
              "50%            0.510000     0.240000        2.100000     0.078000   \n",
              "75%            0.620000     0.400000        2.500000     0.086000   \n",
              "max            0.920000     0.750000        3.600000     0.116000   \n",
              "\n",
              "       total sulfur dioxide           pH    sulphates      alcohol  \n",
              "count           1213.000000  1213.000000  1213.000000  1213.000000  \n",
              "mean              41.650453     3.322745     0.637692    10.405771  \n",
              "std               25.150829     0.138489     0.117961     1.018655  \n",
              "min                6.000000     2.940000     0.330000     8.700000  \n",
              "25%               22.000000     3.220000     0.550000     9.500000  \n",
              "50%               36.000000     3.330000     0.620000    10.200000  \n",
              "75%               55.000000     3.410000     0.710000    11.000000  \n",
              "max              115.000000     3.690000     0.970000    14.000000  "
            ],
            "text/html": [
              "\n",
              "  <div id=\"df-940bb52e-7f73-46c5-9111-ebf792a2289b\">\n",
              "    <div class=\"colab-df-container\">\n",
              "      <div>\n",
              "<style scoped>\n",
              "    .dataframe tbody tr th:only-of-type {\n",
              "        vertical-align: middle;\n",
              "    }\n",
              "\n",
              "    .dataframe tbody tr th {\n",
              "        vertical-align: top;\n",
              "    }\n",
              "\n",
              "    .dataframe thead th {\n",
              "        text-align: right;\n",
              "    }\n",
              "</style>\n",
              "<table border=\"1\" class=\"dataframe\">\n",
              "  <thead>\n",
              "    <tr style=\"text-align: right;\">\n",
              "      <th></th>\n",
              "      <th>volatile acidity</th>\n",
              "      <th>citric acid</th>\n",
              "      <th>residual sugar</th>\n",
              "      <th>chlorides</th>\n",
              "      <th>total sulfur dioxide</th>\n",
              "      <th>pH</th>\n",
              "      <th>sulphates</th>\n",
              "      <th>alcohol</th>\n",
              "    </tr>\n",
              "  </thead>\n",
              "  <tbody>\n",
              "    <tr>\n",
              "      <th>count</th>\n",
              "      <td>1213.000000</td>\n",
              "      <td>1213.000000</td>\n",
              "      <td>1213.000000</td>\n",
              "      <td>1213.000000</td>\n",
              "      <td>1213.000000</td>\n",
              "      <td>1213.000000</td>\n",
              "      <td>1213.000000</td>\n",
              "      <td>1213.000000</td>\n",
              "    </tr>\n",
              "    <tr>\n",
              "      <th>mean</th>\n",
              "      <td>0.512049</td>\n",
              "      <td>0.255581</td>\n",
              "      <td>2.189613</td>\n",
              "      <td>0.077916</td>\n",
              "      <td>41.650453</td>\n",
              "      <td>3.322745</td>\n",
              "      <td>0.637692</td>\n",
              "      <td>10.405771</td>\n",
              "    </tr>\n",
              "    <tr>\n",
              "      <th>std</th>\n",
              "      <td>0.157790</td>\n",
              "      <td>0.186662</td>\n",
              "      <td>0.444636</td>\n",
              "      <td>0.013747</td>\n",
              "      <td>25.150829</td>\n",
              "      <td>0.138489</td>\n",
              "      <td>0.117961</td>\n",
              "      <td>1.018655</td>\n",
              "    </tr>\n",
              "    <tr>\n",
              "      <th>min</th>\n",
              "      <td>0.120000</td>\n",
              "      <td>0.000000</td>\n",
              "      <td>1.200000</td>\n",
              "      <td>0.042000</td>\n",
              "      <td>6.000000</td>\n",
              "      <td>2.940000</td>\n",
              "      <td>0.330000</td>\n",
              "      <td>8.700000</td>\n",
              "    </tr>\n",
              "    <tr>\n",
              "      <th>25%</th>\n",
              "      <td>0.390000</td>\n",
              "      <td>0.090000</td>\n",
              "      <td>1.900000</td>\n",
              "      <td>0.069000</td>\n",
              "      <td>22.000000</td>\n",
              "      <td>3.220000</td>\n",
              "      <td>0.550000</td>\n",
              "      <td>9.500000</td>\n",
              "    </tr>\n",
              "    <tr>\n",
              "      <th>50%</th>\n",
              "      <td>0.510000</td>\n",
              "      <td>0.240000</td>\n",
              "      <td>2.100000</td>\n",
              "      <td>0.078000</td>\n",
              "      <td>36.000000</td>\n",
              "      <td>3.330000</td>\n",
              "      <td>0.620000</td>\n",
              "      <td>10.200000</td>\n",
              "    </tr>\n",
              "    <tr>\n",
              "      <th>75%</th>\n",
              "      <td>0.620000</td>\n",
              "      <td>0.400000</td>\n",
              "      <td>2.500000</td>\n",
              "      <td>0.086000</td>\n",
              "      <td>55.000000</td>\n",
              "      <td>3.410000</td>\n",
              "      <td>0.710000</td>\n",
              "      <td>11.000000</td>\n",
              "    </tr>\n",
              "    <tr>\n",
              "      <th>max</th>\n",
              "      <td>0.920000</td>\n",
              "      <td>0.750000</td>\n",
              "      <td>3.600000</td>\n",
              "      <td>0.116000</td>\n",
              "      <td>115.000000</td>\n",
              "      <td>3.690000</td>\n",
              "      <td>0.970000</td>\n",
              "      <td>14.000000</td>\n",
              "    </tr>\n",
              "  </tbody>\n",
              "</table>\n",
              "</div>\n",
              "      <button class=\"colab-df-convert\" onclick=\"convertToInteractive('df-940bb52e-7f73-46c5-9111-ebf792a2289b')\"\n",
              "              title=\"Convert this dataframe to an interactive table.\"\n",
              "              style=\"display:none;\">\n",
              "        \n",
              "  <svg xmlns=\"http://www.w3.org/2000/svg\" height=\"24px\"viewBox=\"0 0 24 24\"\n",
              "       width=\"24px\">\n",
              "    <path d=\"M0 0h24v24H0V0z\" fill=\"none\"/>\n",
              "    <path d=\"M18.56 5.44l.94 2.06.94-2.06 2.06-.94-2.06-.94-.94-2.06-.94 2.06-2.06.94zm-11 1L8.5 8.5l.94-2.06 2.06-.94-2.06-.94L8.5 2.5l-.94 2.06-2.06.94zm10 10l.94 2.06.94-2.06 2.06-.94-2.06-.94-.94-2.06-.94 2.06-2.06.94z\"/><path d=\"M17.41 7.96l-1.37-1.37c-.4-.4-.92-.59-1.43-.59-.52 0-1.04.2-1.43.59L10.3 9.45l-7.72 7.72c-.78.78-.78 2.05 0 2.83L4 21.41c.39.39.9.59 1.41.59.51 0 1.02-.2 1.41-.59l7.78-7.78 2.81-2.81c.8-.78.8-2.07 0-2.86zM5.41 20L4 18.59l7.72-7.72 1.47 1.35L5.41 20z\"/>\n",
              "  </svg>\n",
              "      </button>\n",
              "      \n",
              "  <style>\n",
              "    .colab-df-container {\n",
              "      display:flex;\n",
              "      flex-wrap:wrap;\n",
              "      gap: 12px;\n",
              "    }\n",
              "\n",
              "    .colab-df-convert {\n",
              "      background-color: #E8F0FE;\n",
              "      border: none;\n",
              "      border-radius: 50%;\n",
              "      cursor: pointer;\n",
              "      display: none;\n",
              "      fill: #1967D2;\n",
              "      height: 32px;\n",
              "      padding: 0 0 0 0;\n",
              "      width: 32px;\n",
              "    }\n",
              "\n",
              "    .colab-df-convert:hover {\n",
              "      background-color: #E2EBFA;\n",
              "      box-shadow: 0px 1px 2px rgba(60, 64, 67, 0.3), 0px 1px 3px 1px rgba(60, 64, 67, 0.15);\n",
              "      fill: #174EA6;\n",
              "    }\n",
              "\n",
              "    [theme=dark] .colab-df-convert {\n",
              "      background-color: #3B4455;\n",
              "      fill: #D2E3FC;\n",
              "    }\n",
              "\n",
              "    [theme=dark] .colab-df-convert:hover {\n",
              "      background-color: #434B5C;\n",
              "      box-shadow: 0px 1px 3px 1px rgba(0, 0, 0, 0.15);\n",
              "      filter: drop-shadow(0px 1px 2px rgba(0, 0, 0, 0.3));\n",
              "      fill: #FFFFFF;\n",
              "    }\n",
              "  </style>\n",
              "\n",
              "      <script>\n",
              "        const buttonEl =\n",
              "          document.querySelector('#df-940bb52e-7f73-46c5-9111-ebf792a2289b button.colab-df-convert');\n",
              "        buttonEl.style.display =\n",
              "          google.colab.kernel.accessAllowed ? 'block' : 'none';\n",
              "\n",
              "        async function convertToInteractive(key) {\n",
              "          const element = document.querySelector('#df-940bb52e-7f73-46c5-9111-ebf792a2289b');\n",
              "          const dataTable =\n",
              "            await google.colab.kernel.invokeFunction('convertToInteractive',\n",
              "                                                     [key], {});\n",
              "          if (!dataTable) return;\n",
              "\n",
              "          const docLinkHtml = 'Like what you see? Visit the ' +\n",
              "            '<a target=\"_blank\" href=https://colab.research.google.com/notebooks/data_table.ipynb>data table notebook</a>'\n",
              "            + ' to learn more about interactive tables.';\n",
              "          element.innerHTML = '';\n",
              "          dataTable['output_type'] = 'display_data';\n",
              "          await google.colab.output.renderOutput(dataTable, element);\n",
              "          const docLink = document.createElement('div');\n",
              "          docLink.innerHTML = docLinkHtml;\n",
              "          element.appendChild(docLink);\n",
              "        }\n",
              "      </script>\n",
              "    </div>\n",
              "  </div>\n",
              "  "
            ]
          },
          "metadata": {},
          "execution_count": 192
        }
      ]
    },
    {
      "cell_type": "code",
      "source": [
        "min_max = preprocessing.MinMaxScaler(feature_range=(0,1))\n",
        "x = min_max.fit_transform(x)\n",
        "x = pd.DataFrame(x)\n",
        "x.describe()"
      ],
      "metadata": {
        "colab": {
          "base_uri": "https://localhost:8080/",
          "height": 344
        },
        "id": "G-8USfVpkLtw",
        "outputId": "c55a2f12-1a41-49b9-a8f8-8f5c344a5596"
      },
      "execution_count": null,
      "outputs": [
        {
          "output_type": "execute_result",
          "data": {
            "text/plain": [
              "                 0            1            2            3            4  \\\n",
              "count  1213.000000  1213.000000  1213.000000  1213.000000  1213.000000   \n",
              "mean      0.490061     0.340775     0.412339     0.485350     0.327068   \n",
              "std       0.197237     0.248883     0.185265     0.185766     0.230742   \n",
              "min       0.000000     0.000000     0.000000     0.000000     0.000000   \n",
              "25%       0.337500     0.120000     0.291667     0.364865     0.146789   \n",
              "50%       0.487500     0.320000     0.375000     0.486486     0.275229   \n",
              "75%       0.625000     0.533333     0.541667     0.594595     0.449541   \n",
              "max       1.000000     1.000000     1.000000     1.000000     1.000000   \n",
              "\n",
              "                 5            6            7  \n",
              "count  1213.000000  1213.000000  1213.000000  \n",
              "mean      0.510327     0.480768     0.321844  \n",
              "std       0.184653     0.184314     0.192199  \n",
              "min       0.000000     0.000000     0.000000  \n",
              "25%       0.373333     0.343750     0.150943  \n",
              "50%       0.520000     0.453125     0.283019  \n",
              "75%       0.626667     0.593750     0.433962  \n",
              "max       1.000000     1.000000     1.000000  "
            ],
            "text/html": [
              "\n",
              "  <div id=\"df-5a3a2aca-7dbb-4edc-b1ad-b295c563cc8a\">\n",
              "    <div class=\"colab-df-container\">\n",
              "      <div>\n",
              "<style scoped>\n",
              "    .dataframe tbody tr th:only-of-type {\n",
              "        vertical-align: middle;\n",
              "    }\n",
              "\n",
              "    .dataframe tbody tr th {\n",
              "        vertical-align: top;\n",
              "    }\n",
              "\n",
              "    .dataframe thead th {\n",
              "        text-align: right;\n",
              "    }\n",
              "</style>\n",
              "<table border=\"1\" class=\"dataframe\">\n",
              "  <thead>\n",
              "    <tr style=\"text-align: right;\">\n",
              "      <th></th>\n",
              "      <th>0</th>\n",
              "      <th>1</th>\n",
              "      <th>2</th>\n",
              "      <th>3</th>\n",
              "      <th>4</th>\n",
              "      <th>5</th>\n",
              "      <th>6</th>\n",
              "      <th>7</th>\n",
              "    </tr>\n",
              "  </thead>\n",
              "  <tbody>\n",
              "    <tr>\n",
              "      <th>count</th>\n",
              "      <td>1213.000000</td>\n",
              "      <td>1213.000000</td>\n",
              "      <td>1213.000000</td>\n",
              "      <td>1213.000000</td>\n",
              "      <td>1213.000000</td>\n",
              "      <td>1213.000000</td>\n",
              "      <td>1213.000000</td>\n",
              "      <td>1213.000000</td>\n",
              "    </tr>\n",
              "    <tr>\n",
              "      <th>mean</th>\n",
              "      <td>0.490061</td>\n",
              "      <td>0.340775</td>\n",
              "      <td>0.412339</td>\n",
              "      <td>0.485350</td>\n",
              "      <td>0.327068</td>\n",
              "      <td>0.510327</td>\n",
              "      <td>0.480768</td>\n",
              "      <td>0.321844</td>\n",
              "    </tr>\n",
              "    <tr>\n",
              "      <th>std</th>\n",
              "      <td>0.197237</td>\n",
              "      <td>0.248883</td>\n",
              "      <td>0.185265</td>\n",
              "      <td>0.185766</td>\n",
              "      <td>0.230742</td>\n",
              "      <td>0.184653</td>\n",
              "      <td>0.184314</td>\n",
              "      <td>0.192199</td>\n",
              "    </tr>\n",
              "    <tr>\n",
              "      <th>min</th>\n",
              "      <td>0.000000</td>\n",
              "      <td>0.000000</td>\n",
              "      <td>0.000000</td>\n",
              "      <td>0.000000</td>\n",
              "      <td>0.000000</td>\n",
              "      <td>0.000000</td>\n",
              "      <td>0.000000</td>\n",
              "      <td>0.000000</td>\n",
              "    </tr>\n",
              "    <tr>\n",
              "      <th>25%</th>\n",
              "      <td>0.337500</td>\n",
              "      <td>0.120000</td>\n",
              "      <td>0.291667</td>\n",
              "      <td>0.364865</td>\n",
              "      <td>0.146789</td>\n",
              "      <td>0.373333</td>\n",
              "      <td>0.343750</td>\n",
              "      <td>0.150943</td>\n",
              "    </tr>\n",
              "    <tr>\n",
              "      <th>50%</th>\n",
              "      <td>0.487500</td>\n",
              "      <td>0.320000</td>\n",
              "      <td>0.375000</td>\n",
              "      <td>0.486486</td>\n",
              "      <td>0.275229</td>\n",
              "      <td>0.520000</td>\n",
              "      <td>0.453125</td>\n",
              "      <td>0.283019</td>\n",
              "    </tr>\n",
              "    <tr>\n",
              "      <th>75%</th>\n",
              "      <td>0.625000</td>\n",
              "      <td>0.533333</td>\n",
              "      <td>0.541667</td>\n",
              "      <td>0.594595</td>\n",
              "      <td>0.449541</td>\n",
              "      <td>0.626667</td>\n",
              "      <td>0.593750</td>\n",
              "      <td>0.433962</td>\n",
              "    </tr>\n",
              "    <tr>\n",
              "      <th>max</th>\n",
              "      <td>1.000000</td>\n",
              "      <td>1.000000</td>\n",
              "      <td>1.000000</td>\n",
              "      <td>1.000000</td>\n",
              "      <td>1.000000</td>\n",
              "      <td>1.000000</td>\n",
              "      <td>1.000000</td>\n",
              "      <td>1.000000</td>\n",
              "    </tr>\n",
              "  </tbody>\n",
              "</table>\n",
              "</div>\n",
              "      <button class=\"colab-df-convert\" onclick=\"convertToInteractive('df-5a3a2aca-7dbb-4edc-b1ad-b295c563cc8a')\"\n",
              "              title=\"Convert this dataframe to an interactive table.\"\n",
              "              style=\"display:none;\">\n",
              "        \n",
              "  <svg xmlns=\"http://www.w3.org/2000/svg\" height=\"24px\"viewBox=\"0 0 24 24\"\n",
              "       width=\"24px\">\n",
              "    <path d=\"M0 0h24v24H0V0z\" fill=\"none\"/>\n",
              "    <path d=\"M18.56 5.44l.94 2.06.94-2.06 2.06-.94-2.06-.94-.94-2.06-.94 2.06-2.06.94zm-11 1L8.5 8.5l.94-2.06 2.06-.94-2.06-.94L8.5 2.5l-.94 2.06-2.06.94zm10 10l.94 2.06.94-2.06 2.06-.94-2.06-.94-.94-2.06-.94 2.06-2.06.94z\"/><path d=\"M17.41 7.96l-1.37-1.37c-.4-.4-.92-.59-1.43-.59-.52 0-1.04.2-1.43.59L10.3 9.45l-7.72 7.72c-.78.78-.78 2.05 0 2.83L4 21.41c.39.39.9.59 1.41.59.51 0 1.02-.2 1.41-.59l7.78-7.78 2.81-2.81c.8-.78.8-2.07 0-2.86zM5.41 20L4 18.59l7.72-7.72 1.47 1.35L5.41 20z\"/>\n",
              "  </svg>\n",
              "      </button>\n",
              "      \n",
              "  <style>\n",
              "    .colab-df-container {\n",
              "      display:flex;\n",
              "      flex-wrap:wrap;\n",
              "      gap: 12px;\n",
              "    }\n",
              "\n",
              "    .colab-df-convert {\n",
              "      background-color: #E8F0FE;\n",
              "      border: none;\n",
              "      border-radius: 50%;\n",
              "      cursor: pointer;\n",
              "      display: none;\n",
              "      fill: #1967D2;\n",
              "      height: 32px;\n",
              "      padding: 0 0 0 0;\n",
              "      width: 32px;\n",
              "    }\n",
              "\n",
              "    .colab-df-convert:hover {\n",
              "      background-color: #E2EBFA;\n",
              "      box-shadow: 0px 1px 2px rgba(60, 64, 67, 0.3), 0px 1px 3px 1px rgba(60, 64, 67, 0.15);\n",
              "      fill: #174EA6;\n",
              "    }\n",
              "\n",
              "    [theme=dark] .colab-df-convert {\n",
              "      background-color: #3B4455;\n",
              "      fill: #D2E3FC;\n",
              "    }\n",
              "\n",
              "    [theme=dark] .colab-df-convert:hover {\n",
              "      background-color: #434B5C;\n",
              "      box-shadow: 0px 1px 3px 1px rgba(0, 0, 0, 0.15);\n",
              "      filter: drop-shadow(0px 1px 2px rgba(0, 0, 0, 0.3));\n",
              "      fill: #FFFFFF;\n",
              "    }\n",
              "  </style>\n",
              "\n",
              "      <script>\n",
              "        const buttonEl =\n",
              "          document.querySelector('#df-5a3a2aca-7dbb-4edc-b1ad-b295c563cc8a button.colab-df-convert');\n",
              "        buttonEl.style.display =\n",
              "          google.colab.kernel.accessAllowed ? 'block' : 'none';\n",
              "\n",
              "        async function convertToInteractive(key) {\n",
              "          const element = document.querySelector('#df-5a3a2aca-7dbb-4edc-b1ad-b295c563cc8a');\n",
              "          const dataTable =\n",
              "            await google.colab.kernel.invokeFunction('convertToInteractive',\n",
              "                                                     [key], {});\n",
              "          if (!dataTable) return;\n",
              "\n",
              "          const docLinkHtml = 'Like what you see? Visit the ' +\n",
              "            '<a target=\"_blank\" href=https://colab.research.google.com/notebooks/data_table.ipynb>data table notebook</a>'\n",
              "            + ' to learn more about interactive tables.';\n",
              "          element.innerHTML = '';\n",
              "          dataTable['output_type'] = 'display_data';\n",
              "          await google.colab.output.renderOutput(dataTable, element);\n",
              "          const docLink = document.createElement('div');\n",
              "          docLink.innerHTML = docLinkHtml;\n",
              "          element.appendChild(docLink);\n",
              "        }\n",
              "      </script>\n",
              "    </div>\n",
              "  </div>\n",
              "  "
            ]
          },
          "metadata": {},
          "execution_count": 193
        }
      ]
    },
    {
      "cell_type": "code",
      "source": [
        "x_train,x_test,y_train,y_test = train_test_split(x,y,random_state=42,test_size=0.2)\n",
        "lr = linear_model.LinearRegression()\n",
        "model = lr.fit(x_train,y_train)\n",
        "prediction = model.predict(x_test)\n",
        "\n",
        "print(\"MSE IS:\", mean_squared_error(y_test,prediction))\n",
        "print(\"R squared value is:\", r2_score(y_test,prediction))\n",
        "\n",
        "# minmax scalar not done any effect on the dataset"
      ],
      "metadata": {
        "colab": {
          "base_uri": "https://localhost:8080/"
        },
        "id": "BKu3t6Zol530",
        "outputId": "41932577-d2eb-42a9-b364-36defac625f2"
      },
      "execution_count": null,
      "outputs": [
        {
          "output_type": "stream",
          "name": "stdout",
          "text": [
            "MSE IS: 0.3509252128740369\n",
            "R squared value is: 0.34886303120289697\n"
          ]
        }
      ]
    },
    {
      "cell_type": "code",
      "source": [
        "x = data.drop(\"quality\",axis=1)\n",
        "x.describe()"
      ],
      "metadata": {
        "colab": {
          "base_uri": "https://localhost:8080/",
          "height": 379
        },
        "id": "SBU5n2uXmWMU",
        "outputId": "b2e79735-cc3b-4077-827b-cf5592a97de6"
      },
      "execution_count": null,
      "outputs": [
        {
          "output_type": "execute_result",
          "data": {
            "text/plain": [
              "       volatile acidity  citric acid  residual sugar    chlorides  \\\n",
              "count       1213.000000  1213.000000     1213.000000  1213.000000   \n",
              "mean           0.512049     0.255581        2.189613     0.077916   \n",
              "std            0.157790     0.186662        0.444636     0.013747   \n",
              "min            0.120000     0.000000        1.200000     0.042000   \n",
              "25%            0.390000     0.090000        1.900000     0.069000   \n",
              "50%            0.510000     0.240000        2.100000     0.078000   \n",
              "75%            0.620000     0.400000        2.500000     0.086000   \n",
              "max            0.920000     0.750000        3.600000     0.116000   \n",
              "\n",
              "       total sulfur dioxide           pH    sulphates      alcohol  \n",
              "count           1213.000000  1213.000000  1213.000000  1213.000000  \n",
              "mean              41.650453     3.322745     0.637692    10.405771  \n",
              "std               25.150829     0.138489     0.117961     1.018655  \n",
              "min                6.000000     2.940000     0.330000     8.700000  \n",
              "25%               22.000000     3.220000     0.550000     9.500000  \n",
              "50%               36.000000     3.330000     0.620000    10.200000  \n",
              "75%               55.000000     3.410000     0.710000    11.000000  \n",
              "max              115.000000     3.690000     0.970000    14.000000  "
            ],
            "text/html": [
              "\n",
              "  <div id=\"df-251b0472-b826-4887-8960-e5ed5c553cd5\">\n",
              "    <div class=\"colab-df-container\">\n",
              "      <div>\n",
              "<style scoped>\n",
              "    .dataframe tbody tr th:only-of-type {\n",
              "        vertical-align: middle;\n",
              "    }\n",
              "\n",
              "    .dataframe tbody tr th {\n",
              "        vertical-align: top;\n",
              "    }\n",
              "\n",
              "    .dataframe thead th {\n",
              "        text-align: right;\n",
              "    }\n",
              "</style>\n",
              "<table border=\"1\" class=\"dataframe\">\n",
              "  <thead>\n",
              "    <tr style=\"text-align: right;\">\n",
              "      <th></th>\n",
              "      <th>volatile acidity</th>\n",
              "      <th>citric acid</th>\n",
              "      <th>residual sugar</th>\n",
              "      <th>chlorides</th>\n",
              "      <th>total sulfur dioxide</th>\n",
              "      <th>pH</th>\n",
              "      <th>sulphates</th>\n",
              "      <th>alcohol</th>\n",
              "    </tr>\n",
              "  </thead>\n",
              "  <tbody>\n",
              "    <tr>\n",
              "      <th>count</th>\n",
              "      <td>1213.000000</td>\n",
              "      <td>1213.000000</td>\n",
              "      <td>1213.000000</td>\n",
              "      <td>1213.000000</td>\n",
              "      <td>1213.000000</td>\n",
              "      <td>1213.000000</td>\n",
              "      <td>1213.000000</td>\n",
              "      <td>1213.000000</td>\n",
              "    </tr>\n",
              "    <tr>\n",
              "      <th>mean</th>\n",
              "      <td>0.512049</td>\n",
              "      <td>0.255581</td>\n",
              "      <td>2.189613</td>\n",
              "      <td>0.077916</td>\n",
              "      <td>41.650453</td>\n",
              "      <td>3.322745</td>\n",
              "      <td>0.637692</td>\n",
              "      <td>10.405771</td>\n",
              "    </tr>\n",
              "    <tr>\n",
              "      <th>std</th>\n",
              "      <td>0.157790</td>\n",
              "      <td>0.186662</td>\n",
              "      <td>0.444636</td>\n",
              "      <td>0.013747</td>\n",
              "      <td>25.150829</td>\n",
              "      <td>0.138489</td>\n",
              "      <td>0.117961</td>\n",
              "      <td>1.018655</td>\n",
              "    </tr>\n",
              "    <tr>\n",
              "      <th>min</th>\n",
              "      <td>0.120000</td>\n",
              "      <td>0.000000</td>\n",
              "      <td>1.200000</td>\n",
              "      <td>0.042000</td>\n",
              "      <td>6.000000</td>\n",
              "      <td>2.940000</td>\n",
              "      <td>0.330000</td>\n",
              "      <td>8.700000</td>\n",
              "    </tr>\n",
              "    <tr>\n",
              "      <th>25%</th>\n",
              "      <td>0.390000</td>\n",
              "      <td>0.090000</td>\n",
              "      <td>1.900000</td>\n",
              "      <td>0.069000</td>\n",
              "      <td>22.000000</td>\n",
              "      <td>3.220000</td>\n",
              "      <td>0.550000</td>\n",
              "      <td>9.500000</td>\n",
              "    </tr>\n",
              "    <tr>\n",
              "      <th>50%</th>\n",
              "      <td>0.510000</td>\n",
              "      <td>0.240000</td>\n",
              "      <td>2.100000</td>\n",
              "      <td>0.078000</td>\n",
              "      <td>36.000000</td>\n",
              "      <td>3.330000</td>\n",
              "      <td>0.620000</td>\n",
              "      <td>10.200000</td>\n",
              "    </tr>\n",
              "    <tr>\n",
              "      <th>75%</th>\n",
              "      <td>0.620000</td>\n",
              "      <td>0.400000</td>\n",
              "      <td>2.500000</td>\n",
              "      <td>0.086000</td>\n",
              "      <td>55.000000</td>\n",
              "      <td>3.410000</td>\n",
              "      <td>0.710000</td>\n",
              "      <td>11.000000</td>\n",
              "    </tr>\n",
              "    <tr>\n",
              "      <th>max</th>\n",
              "      <td>0.920000</td>\n",
              "      <td>0.750000</td>\n",
              "      <td>3.600000</td>\n",
              "      <td>0.116000</td>\n",
              "      <td>115.000000</td>\n",
              "      <td>3.690000</td>\n",
              "      <td>0.970000</td>\n",
              "      <td>14.000000</td>\n",
              "    </tr>\n",
              "  </tbody>\n",
              "</table>\n",
              "</div>\n",
              "      <button class=\"colab-df-convert\" onclick=\"convertToInteractive('df-251b0472-b826-4887-8960-e5ed5c553cd5')\"\n",
              "              title=\"Convert this dataframe to an interactive table.\"\n",
              "              style=\"display:none;\">\n",
              "        \n",
              "  <svg xmlns=\"http://www.w3.org/2000/svg\" height=\"24px\"viewBox=\"0 0 24 24\"\n",
              "       width=\"24px\">\n",
              "    <path d=\"M0 0h24v24H0V0z\" fill=\"none\"/>\n",
              "    <path d=\"M18.56 5.44l.94 2.06.94-2.06 2.06-.94-2.06-.94-.94-2.06-.94 2.06-2.06.94zm-11 1L8.5 8.5l.94-2.06 2.06-.94-2.06-.94L8.5 2.5l-.94 2.06-2.06.94zm10 10l.94 2.06.94-2.06 2.06-.94-2.06-.94-.94-2.06-.94 2.06-2.06.94z\"/><path d=\"M17.41 7.96l-1.37-1.37c-.4-.4-.92-.59-1.43-.59-.52 0-1.04.2-1.43.59L10.3 9.45l-7.72 7.72c-.78.78-.78 2.05 0 2.83L4 21.41c.39.39.9.59 1.41.59.51 0 1.02-.2 1.41-.59l7.78-7.78 2.81-2.81c.8-.78.8-2.07 0-2.86zM5.41 20L4 18.59l7.72-7.72 1.47 1.35L5.41 20z\"/>\n",
              "  </svg>\n",
              "      </button>\n",
              "      \n",
              "  <style>\n",
              "    .colab-df-container {\n",
              "      display:flex;\n",
              "      flex-wrap:wrap;\n",
              "      gap: 12px;\n",
              "    }\n",
              "\n",
              "    .colab-df-convert {\n",
              "      background-color: #E8F0FE;\n",
              "      border: none;\n",
              "      border-radius: 50%;\n",
              "      cursor: pointer;\n",
              "      display: none;\n",
              "      fill: #1967D2;\n",
              "      height: 32px;\n",
              "      padding: 0 0 0 0;\n",
              "      width: 32px;\n",
              "    }\n",
              "\n",
              "    .colab-df-convert:hover {\n",
              "      background-color: #E2EBFA;\n",
              "      box-shadow: 0px 1px 2px rgba(60, 64, 67, 0.3), 0px 1px 3px 1px rgba(60, 64, 67, 0.15);\n",
              "      fill: #174EA6;\n",
              "    }\n",
              "\n",
              "    [theme=dark] .colab-df-convert {\n",
              "      background-color: #3B4455;\n",
              "      fill: #D2E3FC;\n",
              "    }\n",
              "\n",
              "    [theme=dark] .colab-df-convert:hover {\n",
              "      background-color: #434B5C;\n",
              "      box-shadow: 0px 1px 3px 1px rgba(0, 0, 0, 0.15);\n",
              "      filter: drop-shadow(0px 1px 2px rgba(0, 0, 0, 0.3));\n",
              "      fill: #FFFFFF;\n",
              "    }\n",
              "  </style>\n",
              "\n",
              "      <script>\n",
              "        const buttonEl =\n",
              "          document.querySelector('#df-251b0472-b826-4887-8960-e5ed5c553cd5 button.colab-df-convert');\n",
              "        buttonEl.style.display =\n",
              "          google.colab.kernel.accessAllowed ? 'block' : 'none';\n",
              "\n",
              "        async function convertToInteractive(key) {\n",
              "          const element = document.querySelector('#df-251b0472-b826-4887-8960-e5ed5c553cd5');\n",
              "          const dataTable =\n",
              "            await google.colab.kernel.invokeFunction('convertToInteractive',\n",
              "                                                     [key], {});\n",
              "          if (!dataTable) return;\n",
              "\n",
              "          const docLinkHtml = 'Like what you see? Visit the ' +\n",
              "            '<a target=\"_blank\" href=https://colab.research.google.com/notebooks/data_table.ipynb>data table notebook</a>'\n",
              "            + ' to learn more about interactive tables.';\n",
              "          element.innerHTML = '';\n",
              "          dataTable['output_type'] = 'display_data';\n",
              "          await google.colab.output.renderOutput(dataTable, element);\n",
              "          const docLink = document.createElement('div');\n",
              "          docLink.innerHTML = docLinkHtml;\n",
              "          element.appendChild(docLink);\n",
              "        }\n",
              "      </script>\n",
              "    </div>\n",
              "  </div>\n",
              "  "
            ]
          },
          "metadata": {},
          "execution_count": 195
        }
      ]
    },
    {
      "cell_type": "code",
      "source": [
        "x = preprocessing.normalize(x)\n"
      ],
      "metadata": {
        "id": "rs2Y2iqGmd2k"
      },
      "execution_count": null,
      "outputs": []
    },
    {
      "cell_type": "code",
      "source": [
        "x = pd.DataFrame(x)\n",
        "x.describe()"
      ],
      "metadata": {
        "colab": {
          "base_uri": "https://localhost:8080/",
          "height": 344
        },
        "id": "dbOMhb3Hmnj0",
        "outputId": "1085236a-0e81-47b4-b25e-5aa47225ebdc"
      },
      "execution_count": null,
      "outputs": [
        {
          "output_type": "execute_result",
          "data": {
            "text/plain": [
              "                 0            1            2            3            4  \\\n",
              "count  1213.000000  1213.000000  1213.000000  1213.000000  1213.000000   \n",
              "mean      0.015396     0.007920     0.065248     0.002331     0.916178   \n",
              "std       0.009693     0.008256     0.034719     0.001242     0.096514   \n",
              "min       0.002025     0.000000     0.012768     0.000412     0.430933   \n",
              "25%       0.008239     0.002035     0.037646     0.001367     0.891396   \n",
              "50%       0.013036     0.004988     0.056863     0.002077     0.953919   \n",
              "75%       0.019802     0.011100     0.085375     0.003039     0.980835   \n",
              "max       0.069482     0.042967     0.232493     0.007990     0.996124   \n",
              "\n",
              "                 5            6            7  \n",
              "count  1213.000000  1213.000000  1213.000000  \n",
              "mean      0.100732     0.019297     0.318721  \n",
              "std       0.052359     0.010465     0.174509  \n",
              "min       0.027592     0.004231     0.081100  \n",
              "25%       0.058985     0.011259     0.179690  \n",
              "50%       0.089147     0.016748     0.279090  \n",
              "75%       0.133849     0.026276     0.425162  \n",
              "max       0.263794     0.056805     0.854685  "
            ],
            "text/html": [
              "\n",
              "  <div id=\"df-7b4696ae-4ce4-45d2-8c1e-4085d77c3e19\">\n",
              "    <div class=\"colab-df-container\">\n",
              "      <div>\n",
              "<style scoped>\n",
              "    .dataframe tbody tr th:only-of-type {\n",
              "        vertical-align: middle;\n",
              "    }\n",
              "\n",
              "    .dataframe tbody tr th {\n",
              "        vertical-align: top;\n",
              "    }\n",
              "\n",
              "    .dataframe thead th {\n",
              "        text-align: right;\n",
              "    }\n",
              "</style>\n",
              "<table border=\"1\" class=\"dataframe\">\n",
              "  <thead>\n",
              "    <tr style=\"text-align: right;\">\n",
              "      <th></th>\n",
              "      <th>0</th>\n",
              "      <th>1</th>\n",
              "      <th>2</th>\n",
              "      <th>3</th>\n",
              "      <th>4</th>\n",
              "      <th>5</th>\n",
              "      <th>6</th>\n",
              "      <th>7</th>\n",
              "    </tr>\n",
              "  </thead>\n",
              "  <tbody>\n",
              "    <tr>\n",
              "      <th>count</th>\n",
              "      <td>1213.000000</td>\n",
              "      <td>1213.000000</td>\n",
              "      <td>1213.000000</td>\n",
              "      <td>1213.000000</td>\n",
              "      <td>1213.000000</td>\n",
              "      <td>1213.000000</td>\n",
              "      <td>1213.000000</td>\n",
              "      <td>1213.000000</td>\n",
              "    </tr>\n",
              "    <tr>\n",
              "      <th>mean</th>\n",
              "      <td>0.015396</td>\n",
              "      <td>0.007920</td>\n",
              "      <td>0.065248</td>\n",
              "      <td>0.002331</td>\n",
              "      <td>0.916178</td>\n",
              "      <td>0.100732</td>\n",
              "      <td>0.019297</td>\n",
              "      <td>0.318721</td>\n",
              "    </tr>\n",
              "    <tr>\n",
              "      <th>std</th>\n",
              "      <td>0.009693</td>\n",
              "      <td>0.008256</td>\n",
              "      <td>0.034719</td>\n",
              "      <td>0.001242</td>\n",
              "      <td>0.096514</td>\n",
              "      <td>0.052359</td>\n",
              "      <td>0.010465</td>\n",
              "      <td>0.174509</td>\n",
              "    </tr>\n",
              "    <tr>\n",
              "      <th>min</th>\n",
              "      <td>0.002025</td>\n",
              "      <td>0.000000</td>\n",
              "      <td>0.012768</td>\n",
              "      <td>0.000412</td>\n",
              "      <td>0.430933</td>\n",
              "      <td>0.027592</td>\n",
              "      <td>0.004231</td>\n",
              "      <td>0.081100</td>\n",
              "    </tr>\n",
              "    <tr>\n",
              "      <th>25%</th>\n",
              "      <td>0.008239</td>\n",
              "      <td>0.002035</td>\n",
              "      <td>0.037646</td>\n",
              "      <td>0.001367</td>\n",
              "      <td>0.891396</td>\n",
              "      <td>0.058985</td>\n",
              "      <td>0.011259</td>\n",
              "      <td>0.179690</td>\n",
              "    </tr>\n",
              "    <tr>\n",
              "      <th>50%</th>\n",
              "      <td>0.013036</td>\n",
              "      <td>0.004988</td>\n",
              "      <td>0.056863</td>\n",
              "      <td>0.002077</td>\n",
              "      <td>0.953919</td>\n",
              "      <td>0.089147</td>\n",
              "      <td>0.016748</td>\n",
              "      <td>0.279090</td>\n",
              "    </tr>\n",
              "    <tr>\n",
              "      <th>75%</th>\n",
              "      <td>0.019802</td>\n",
              "      <td>0.011100</td>\n",
              "      <td>0.085375</td>\n",
              "      <td>0.003039</td>\n",
              "      <td>0.980835</td>\n",
              "      <td>0.133849</td>\n",
              "      <td>0.026276</td>\n",
              "      <td>0.425162</td>\n",
              "    </tr>\n",
              "    <tr>\n",
              "      <th>max</th>\n",
              "      <td>0.069482</td>\n",
              "      <td>0.042967</td>\n",
              "      <td>0.232493</td>\n",
              "      <td>0.007990</td>\n",
              "      <td>0.996124</td>\n",
              "      <td>0.263794</td>\n",
              "      <td>0.056805</td>\n",
              "      <td>0.854685</td>\n",
              "    </tr>\n",
              "  </tbody>\n",
              "</table>\n",
              "</div>\n",
              "      <button class=\"colab-df-convert\" onclick=\"convertToInteractive('df-7b4696ae-4ce4-45d2-8c1e-4085d77c3e19')\"\n",
              "              title=\"Convert this dataframe to an interactive table.\"\n",
              "              style=\"display:none;\">\n",
              "        \n",
              "  <svg xmlns=\"http://www.w3.org/2000/svg\" height=\"24px\"viewBox=\"0 0 24 24\"\n",
              "       width=\"24px\">\n",
              "    <path d=\"M0 0h24v24H0V0z\" fill=\"none\"/>\n",
              "    <path d=\"M18.56 5.44l.94 2.06.94-2.06 2.06-.94-2.06-.94-.94-2.06-.94 2.06-2.06.94zm-11 1L8.5 8.5l.94-2.06 2.06-.94-2.06-.94L8.5 2.5l-.94 2.06-2.06.94zm10 10l.94 2.06.94-2.06 2.06-.94-2.06-.94-.94-2.06-.94 2.06-2.06.94z\"/><path d=\"M17.41 7.96l-1.37-1.37c-.4-.4-.92-.59-1.43-.59-.52 0-1.04.2-1.43.59L10.3 9.45l-7.72 7.72c-.78.78-.78 2.05 0 2.83L4 21.41c.39.39.9.59 1.41.59.51 0 1.02-.2 1.41-.59l7.78-7.78 2.81-2.81c.8-.78.8-2.07 0-2.86zM5.41 20L4 18.59l7.72-7.72 1.47 1.35L5.41 20z\"/>\n",
              "  </svg>\n",
              "      </button>\n",
              "      \n",
              "  <style>\n",
              "    .colab-df-container {\n",
              "      display:flex;\n",
              "      flex-wrap:wrap;\n",
              "      gap: 12px;\n",
              "    }\n",
              "\n",
              "    .colab-df-convert {\n",
              "      background-color: #E8F0FE;\n",
              "      border: none;\n",
              "      border-radius: 50%;\n",
              "      cursor: pointer;\n",
              "      display: none;\n",
              "      fill: #1967D2;\n",
              "      height: 32px;\n",
              "      padding: 0 0 0 0;\n",
              "      width: 32px;\n",
              "    }\n",
              "\n",
              "    .colab-df-convert:hover {\n",
              "      background-color: #E2EBFA;\n",
              "      box-shadow: 0px 1px 2px rgba(60, 64, 67, 0.3), 0px 1px 3px 1px rgba(60, 64, 67, 0.15);\n",
              "      fill: #174EA6;\n",
              "    }\n",
              "\n",
              "    [theme=dark] .colab-df-convert {\n",
              "      background-color: #3B4455;\n",
              "      fill: #D2E3FC;\n",
              "    }\n",
              "\n",
              "    [theme=dark] .colab-df-convert:hover {\n",
              "      background-color: #434B5C;\n",
              "      box-shadow: 0px 1px 3px 1px rgba(0, 0, 0, 0.15);\n",
              "      filter: drop-shadow(0px 1px 2px rgba(0, 0, 0, 0.3));\n",
              "      fill: #FFFFFF;\n",
              "    }\n",
              "  </style>\n",
              "\n",
              "      <script>\n",
              "        const buttonEl =\n",
              "          document.querySelector('#df-7b4696ae-4ce4-45d2-8c1e-4085d77c3e19 button.colab-df-convert');\n",
              "        buttonEl.style.display =\n",
              "          google.colab.kernel.accessAllowed ? 'block' : 'none';\n",
              "\n",
              "        async function convertToInteractive(key) {\n",
              "          const element = document.querySelector('#df-7b4696ae-4ce4-45d2-8c1e-4085d77c3e19');\n",
              "          const dataTable =\n",
              "            await google.colab.kernel.invokeFunction('convertToInteractive',\n",
              "                                                     [key], {});\n",
              "          if (!dataTable) return;\n",
              "\n",
              "          const docLinkHtml = 'Like what you see? Visit the ' +\n",
              "            '<a target=\"_blank\" href=https://colab.research.google.com/notebooks/data_table.ipynb>data table notebook</a>'\n",
              "            + ' to learn more about interactive tables.';\n",
              "          element.innerHTML = '';\n",
              "          dataTable['output_type'] = 'display_data';\n",
              "          await google.colab.output.renderOutput(dataTable, element);\n",
              "          const docLink = document.createElement('div');\n",
              "          docLink.innerHTML = docLinkHtml;\n",
              "          element.appendChild(docLink);\n",
              "        }\n",
              "      </script>\n",
              "    </div>\n",
              "  </div>\n",
              "  "
            ]
          },
          "metadata": {},
          "execution_count": 197
        }
      ]
    },
    {
      "cell_type": "code",
      "source": [
        "x_train,x_test,y_train,y_test = train_test_split(x,y, random_state=42, test_size=0.2)\n",
        "lr= linear_model.LinearRegression()\n",
        "model = lr.fit(x_train,y_train)\n",
        "prediction = model.predict(x_test)\n",
        "\n",
        "print(\"MSE IS:\", mean_squared_error(y_test,prediction))\n",
        "print(\"R squared value is:\", r2_score(y_test,prediction))"
      ],
      "metadata": {
        "colab": {
          "base_uri": "https://localhost:8080/"
        },
        "id": "G5MTWVO9mtXG",
        "outputId": "6b7e9da2-ed1d-456b-abcf-c56e2b98ffba"
      },
      "execution_count": null,
      "outputs": [
        {
          "output_type": "stream",
          "name": "stdout",
          "text": [
            "MSE IS: 0.3796129715430898\n",
            "R squared value is: 0.29563328441905745\n"
          ]
        }
      ]
    },
    {
      "cell_type": "code",
      "source": [
        "x = data.drop(\"quality\",axis=1)\n",
        "x.describe()"
      ],
      "metadata": {
        "colab": {
          "base_uri": "https://localhost:8080/",
          "height": 379
        },
        "id": "ISz7WZi0ocv3",
        "outputId": "8b494145-0c69-437e-aec2-df52e95e4635"
      },
      "execution_count": null,
      "outputs": [
        {
          "output_type": "execute_result",
          "data": {
            "text/plain": [
              "       volatile acidity  citric acid  residual sugar    chlorides  \\\n",
              "count       1213.000000  1213.000000     1213.000000  1213.000000   \n",
              "mean           0.512049     0.255581        2.189613     0.077916   \n",
              "std            0.157790     0.186662        0.444636     0.013747   \n",
              "min            0.120000     0.000000        1.200000     0.042000   \n",
              "25%            0.390000     0.090000        1.900000     0.069000   \n",
              "50%            0.510000     0.240000        2.100000     0.078000   \n",
              "75%            0.620000     0.400000        2.500000     0.086000   \n",
              "max            0.920000     0.750000        3.600000     0.116000   \n",
              "\n",
              "       total sulfur dioxide           pH    sulphates      alcohol  \n",
              "count           1213.000000  1213.000000  1213.000000  1213.000000  \n",
              "mean              41.650453     3.322745     0.637692    10.405771  \n",
              "std               25.150829     0.138489     0.117961     1.018655  \n",
              "min                6.000000     2.940000     0.330000     8.700000  \n",
              "25%               22.000000     3.220000     0.550000     9.500000  \n",
              "50%               36.000000     3.330000     0.620000    10.200000  \n",
              "75%               55.000000     3.410000     0.710000    11.000000  \n",
              "max              115.000000     3.690000     0.970000    14.000000  "
            ],
            "text/html": [
              "\n",
              "  <div id=\"df-7abbf34d-0db0-4b7c-8463-97ce2edbaefe\">\n",
              "    <div class=\"colab-df-container\">\n",
              "      <div>\n",
              "<style scoped>\n",
              "    .dataframe tbody tr th:only-of-type {\n",
              "        vertical-align: middle;\n",
              "    }\n",
              "\n",
              "    .dataframe tbody tr th {\n",
              "        vertical-align: top;\n",
              "    }\n",
              "\n",
              "    .dataframe thead th {\n",
              "        text-align: right;\n",
              "    }\n",
              "</style>\n",
              "<table border=\"1\" class=\"dataframe\">\n",
              "  <thead>\n",
              "    <tr style=\"text-align: right;\">\n",
              "      <th></th>\n",
              "      <th>volatile acidity</th>\n",
              "      <th>citric acid</th>\n",
              "      <th>residual sugar</th>\n",
              "      <th>chlorides</th>\n",
              "      <th>total sulfur dioxide</th>\n",
              "      <th>pH</th>\n",
              "      <th>sulphates</th>\n",
              "      <th>alcohol</th>\n",
              "    </tr>\n",
              "  </thead>\n",
              "  <tbody>\n",
              "    <tr>\n",
              "      <th>count</th>\n",
              "      <td>1213.000000</td>\n",
              "      <td>1213.000000</td>\n",
              "      <td>1213.000000</td>\n",
              "      <td>1213.000000</td>\n",
              "      <td>1213.000000</td>\n",
              "      <td>1213.000000</td>\n",
              "      <td>1213.000000</td>\n",
              "      <td>1213.000000</td>\n",
              "    </tr>\n",
              "    <tr>\n",
              "      <th>mean</th>\n",
              "      <td>0.512049</td>\n",
              "      <td>0.255581</td>\n",
              "      <td>2.189613</td>\n",
              "      <td>0.077916</td>\n",
              "      <td>41.650453</td>\n",
              "      <td>3.322745</td>\n",
              "      <td>0.637692</td>\n",
              "      <td>10.405771</td>\n",
              "    </tr>\n",
              "    <tr>\n",
              "      <th>std</th>\n",
              "      <td>0.157790</td>\n",
              "      <td>0.186662</td>\n",
              "      <td>0.444636</td>\n",
              "      <td>0.013747</td>\n",
              "      <td>25.150829</td>\n",
              "      <td>0.138489</td>\n",
              "      <td>0.117961</td>\n",
              "      <td>1.018655</td>\n",
              "    </tr>\n",
              "    <tr>\n",
              "      <th>min</th>\n",
              "      <td>0.120000</td>\n",
              "      <td>0.000000</td>\n",
              "      <td>1.200000</td>\n",
              "      <td>0.042000</td>\n",
              "      <td>6.000000</td>\n",
              "      <td>2.940000</td>\n",
              "      <td>0.330000</td>\n",
              "      <td>8.700000</td>\n",
              "    </tr>\n",
              "    <tr>\n",
              "      <th>25%</th>\n",
              "      <td>0.390000</td>\n",
              "      <td>0.090000</td>\n",
              "      <td>1.900000</td>\n",
              "      <td>0.069000</td>\n",
              "      <td>22.000000</td>\n",
              "      <td>3.220000</td>\n",
              "      <td>0.550000</td>\n",
              "      <td>9.500000</td>\n",
              "    </tr>\n",
              "    <tr>\n",
              "      <th>50%</th>\n",
              "      <td>0.510000</td>\n",
              "      <td>0.240000</td>\n",
              "      <td>2.100000</td>\n",
              "      <td>0.078000</td>\n",
              "      <td>36.000000</td>\n",
              "      <td>3.330000</td>\n",
              "      <td>0.620000</td>\n",
              "      <td>10.200000</td>\n",
              "    </tr>\n",
              "    <tr>\n",
              "      <th>75%</th>\n",
              "      <td>0.620000</td>\n",
              "      <td>0.400000</td>\n",
              "      <td>2.500000</td>\n",
              "      <td>0.086000</td>\n",
              "      <td>55.000000</td>\n",
              "      <td>3.410000</td>\n",
              "      <td>0.710000</td>\n",
              "      <td>11.000000</td>\n",
              "    </tr>\n",
              "    <tr>\n",
              "      <th>max</th>\n",
              "      <td>0.920000</td>\n",
              "      <td>0.750000</td>\n",
              "      <td>3.600000</td>\n",
              "      <td>0.116000</td>\n",
              "      <td>115.000000</td>\n",
              "      <td>3.690000</td>\n",
              "      <td>0.970000</td>\n",
              "      <td>14.000000</td>\n",
              "    </tr>\n",
              "  </tbody>\n",
              "</table>\n",
              "</div>\n",
              "      <button class=\"colab-df-convert\" onclick=\"convertToInteractive('df-7abbf34d-0db0-4b7c-8463-97ce2edbaefe')\"\n",
              "              title=\"Convert this dataframe to an interactive table.\"\n",
              "              style=\"display:none;\">\n",
              "        \n",
              "  <svg xmlns=\"http://www.w3.org/2000/svg\" height=\"24px\"viewBox=\"0 0 24 24\"\n",
              "       width=\"24px\">\n",
              "    <path d=\"M0 0h24v24H0V0z\" fill=\"none\"/>\n",
              "    <path d=\"M18.56 5.44l.94 2.06.94-2.06 2.06-.94-2.06-.94-.94-2.06-.94 2.06-2.06.94zm-11 1L8.5 8.5l.94-2.06 2.06-.94-2.06-.94L8.5 2.5l-.94 2.06-2.06.94zm10 10l.94 2.06.94-2.06 2.06-.94-2.06-.94-.94-2.06-.94 2.06-2.06.94z\"/><path d=\"M17.41 7.96l-1.37-1.37c-.4-.4-.92-.59-1.43-.59-.52 0-1.04.2-1.43.59L10.3 9.45l-7.72 7.72c-.78.78-.78 2.05 0 2.83L4 21.41c.39.39.9.59 1.41.59.51 0 1.02-.2 1.41-.59l7.78-7.78 2.81-2.81c.8-.78.8-2.07 0-2.86zM5.41 20L4 18.59l7.72-7.72 1.47 1.35L5.41 20z\"/>\n",
              "  </svg>\n",
              "      </button>\n",
              "      \n",
              "  <style>\n",
              "    .colab-df-container {\n",
              "      display:flex;\n",
              "      flex-wrap:wrap;\n",
              "      gap: 12px;\n",
              "    }\n",
              "\n",
              "    .colab-df-convert {\n",
              "      background-color: #E8F0FE;\n",
              "      border: none;\n",
              "      border-radius: 50%;\n",
              "      cursor: pointer;\n",
              "      display: none;\n",
              "      fill: #1967D2;\n",
              "      height: 32px;\n",
              "      padding: 0 0 0 0;\n",
              "      width: 32px;\n",
              "    }\n",
              "\n",
              "    .colab-df-convert:hover {\n",
              "      background-color: #E2EBFA;\n",
              "      box-shadow: 0px 1px 2px rgba(60, 64, 67, 0.3), 0px 1px 3px 1px rgba(60, 64, 67, 0.15);\n",
              "      fill: #174EA6;\n",
              "    }\n",
              "\n",
              "    [theme=dark] .colab-df-convert {\n",
              "      background-color: #3B4455;\n",
              "      fill: #D2E3FC;\n",
              "    }\n",
              "\n",
              "    [theme=dark] .colab-df-convert:hover {\n",
              "      background-color: #434B5C;\n",
              "      box-shadow: 0px 1px 3px 1px rgba(0, 0, 0, 0.15);\n",
              "      filter: drop-shadow(0px 1px 2px rgba(0, 0, 0, 0.3));\n",
              "      fill: #FFFFFF;\n",
              "    }\n",
              "  </style>\n",
              "\n",
              "      <script>\n",
              "        const buttonEl =\n",
              "          document.querySelector('#df-7abbf34d-0db0-4b7c-8463-97ce2edbaefe button.colab-df-convert');\n",
              "        buttonEl.style.display =\n",
              "          google.colab.kernel.accessAllowed ? 'block' : 'none';\n",
              "\n",
              "        async function convertToInteractive(key) {\n",
              "          const element = document.querySelector('#df-7abbf34d-0db0-4b7c-8463-97ce2edbaefe');\n",
              "          const dataTable =\n",
              "            await google.colab.kernel.invokeFunction('convertToInteractive',\n",
              "                                                     [key], {});\n",
              "          if (!dataTable) return;\n",
              "\n",
              "          const docLinkHtml = 'Like what you see? Visit the ' +\n",
              "            '<a target=\"_blank\" href=https://colab.research.google.com/notebooks/data_table.ipynb>data table notebook</a>'\n",
              "            + ' to learn more about interactive tables.';\n",
              "          element.innerHTML = '';\n",
              "          dataTable['output_type'] = 'display_data';\n",
              "          await google.colab.output.renderOutput(dataTable, element);\n",
              "          const docLink = document.createElement('div');\n",
              "          docLink.innerHTML = docLinkHtml;\n",
              "          element.appendChild(docLink);\n",
              "        }\n",
              "      </script>\n",
              "    </div>\n",
              "  </div>\n",
              "  "
            ]
          },
          "metadata": {},
          "execution_count": 199
        }
      ]
    },
    {
      "cell_type": "code",
      "source": [
        "# feature reduction\n",
        "# and check the model is improving\n",
        "\n",
        "corrmatrix = data.corr()\n",
        "plt.subplots(figsize=(20,8))\n",
        "sns.heatmap(corrmatrix, vmin=-1, vmax=1, annot=True, linewidth=0.2, cmap=\"YlGnBu\")"
      ],
      "metadata": {
        "colab": {
          "base_uri": "https://localhost:8080/",
          "height": 392
        },
        "id": "5FisemdRmzjH",
        "outputId": "d6b4d518-15e8-4e82-a417-65251ae148e4"
      },
      "execution_count": null,
      "outputs": [
        {
          "output_type": "execute_result",
          "data": {
            "text/plain": [
              "<Axes: >"
            ]
          },
          "metadata": {},
          "execution_count": 200
        },
        {
          "output_type": "display_data",
          "data": {
            "text/plain": [
              "<Figure size 2000x800 with 2 Axes>"
            ],
            "image/png": "[encoded data removed]"
          },
          "metadata": {}
        }
      ]
    },
    {
      "cell_type": "code",
      "source": [
        "data.columns"
      ],
      "metadata": {
        "colab": {
          "base_uri": "https://localhost:8080/"
        },
        "id": "ECK5um06nb5b",
        "outputId": "aeb4138d-904c-4e03-c82b-15f2cdee67da"
      },
      "execution_count": null,
      "outputs": [
        {
          "output_type": "execute_result",
          "data": {
            "text/plain": [
              "Index(['volatile acidity', 'citric acid', 'residual sugar', 'chlorides',\n",
              "       'total sulfur dioxide', 'pH', 'sulphates', 'alcohol', 'quality'],\n",
              "      dtype='object')"
            ]
          },
          "metadata": {},
          "execution_count": 201
        }
      ]
    },
    {
      "cell_type": "code",
      "source": [
        "# drope the column with low negative correlation\n",
        "data.drop([\"citric acid\"],axis=1, inplace=True)"
      ],
      "metadata": {
        "id": "y0LHHePUnsA5"
      },
      "execution_count": null,
      "outputs": []
    },
    {
      "cell_type": "code",
      "source": [
        "y= data[\"quality\"]\n",
        "x= data.drop(\"quality\",axis=1)\n",
        "x_train,x_test,y_train,y_test = train_test_split(x,y, random_state=42, test_size=0.2)\n",
        "lr= linear_model.LinearRegression()\n",
        "model = lr.fit(x_train,y_train)\n",
        "prediction = model.predict(x_test)\n",
        "\n",
        "print(\"MSE IS:\", mean_squared_error(y_test,prediction))\n",
        "print(\"R squared value is:\", r2_score(y_test,prediction))"
      ],
      "metadata": {
        "colab": {
          "base_uri": "https://localhost:8080/"
        },
        "id": "UK77fv7vn2-N",
        "outputId": "bd2a83a7-d5c2-4164-8755-56a7365fb46b"
      },
      "execution_count": null,
      "outputs": [
        {
          "output_type": "stream",
          "name": "stdout",
          "text": [
            "MSE IS: 0.35205636481818675\n",
            "R squared value is: 0.3467641941255306\n"
          ]
        }
      ]
    },
    {
      "cell_type": "code",
      "source": [],
      "metadata": {
        "id": "8tqa4Vbbn6ZX"
      },
      "execution_count": null,
      "outputs": []
    }
  ]
}